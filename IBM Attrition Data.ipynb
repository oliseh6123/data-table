{
 "cells": [
  {
   "cell_type": "code",
   "execution_count": 1,
   "id": "92bbda0f",
   "metadata": {
    "_cell_guid": "b1076dfc-b9ad-4769-8c92-a6c4dae69d19",
    "_uuid": "8f2839f25d086af736a60e9eeb907d3b93b6e0e5",
    "execution": {
     "iopub.execute_input": "2022-03-09T09:44:52.098857Z",
     "iopub.status.busy": "2022-03-09T09:44:52.098197Z",
     "iopub.status.idle": "2022-03-09T09:44:52.108275Z",
     "shell.execute_reply": "2022-03-09T09:44:52.109080Z"
    },
    "papermill": {
     "duration": 0.083433,
     "end_time": "2022-03-09T09:44:52.109433",
     "exception": false,
     "start_time": "2022-03-09T09:44:52.026000",
     "status": "completed"
    },
    "tags": []
   },
   "outputs": [
    {
     "name": "stdout",
     "output_type": "stream",
     "text": [
      "/kaggle/input/ibm-attrition-data/IBM Attrition Data.csv\n"
     ]
    }
   ],
   "source": [
    "# This Python 3 environment comes with many helpful analytics libraries installed\n",
    "# It is defined by the kaggle/python Docker image: https://github.com/kaggle/docker-python\n",
    "# For example, here's several helpful packages to load\n",
    "\n",
    "import numpy as np # linear algebra\n",
    "import pandas as pd # data processing, CSV file I/O (e.g. pd.read_csv)\n",
    "\n",
    "# Input data files are available in the read-only \"../input/\" directory\n",
    "# For example, running this (by clicking run or pressing Shift+Enter) will list all files under the input directory\n",
    "\n",
    "import os\n",
    "for dirname, _, filenames in os.walk('/kaggle/input'):\n",
    "    for filename in filenames:\n",
    "        print(os.path.join(dirname, filename))\n",
    "\n",
    "# You can write up to 20GB to the current directory (/kaggle/working/) that gets preserved as output when you create a version using \"Save & Run All\" \n",
    "# You can also write temporary files to /kaggle/temp/, but they won't be saved outside of the current session"
   ]
  },
  {
   "cell_type": "code",
   "execution_count": 2,
   "id": "175d27dc",
   "metadata": {
    "execution": {
     "iopub.execute_input": "2022-03-09T09:44:52.243955Z",
     "iopub.status.busy": "2022-03-09T09:44:52.243171Z",
     "iopub.status.idle": "2022-03-09T09:44:52.273443Z",
     "shell.execute_reply": "2022-03-09T09:44:52.274115Z",
     "shell.execute_reply.started": "2022-03-09T07:21:33.651788Z"
    },
    "papermill": {
     "duration": 0.097878,
     "end_time": "2022-03-09T09:44:52.274307",
     "exception": false,
     "start_time": "2022-03-09T09:44:52.176429",
     "status": "completed"
    },
    "tags": []
   },
   "outputs": [],
   "source": [
    "#import the required packages\n",
    "import numpy as np\n",
    "import pandas as pd\n",
    "import matplotlib.pyplot as plt\n",
    "from patsy import dmatrices"
   ]
  },
  {
   "cell_type": "code",
   "execution_count": 3,
   "id": "47e83947",
   "metadata": {
    "execution": {
     "iopub.execute_input": "2022-03-09T09:44:52.404887Z",
     "iopub.status.busy": "2022-03-09T09:44:52.402376Z",
     "iopub.status.idle": "2022-03-09T09:44:52.419270Z",
     "shell.execute_reply": "2022-03-09T09:44:52.419747Z",
     "shell.execute_reply.started": "2022-03-09T07:25:13.329927Z"
    },
    "papermill": {
     "duration": 0.08274,
     "end_time": "2022-03-09T09:44:52.419946",
     "exception": false,
     "start_time": "2022-03-09T09:44:52.337206",
     "status": "completed"
    },
    "tags": []
   },
   "outputs": [],
   "source": [
    "#reading the IBM Attrition Data\n",
    "ibm_hr_data = pd.read_csv('../input/ibm-attrition-data/IBM Attrition Data.csv', sep=\",\", header=0)"
   ]
  },
  {
   "cell_type": "code",
   "execution_count": 4,
   "id": "8fb6de3d",
   "metadata": {
    "execution": {
     "iopub.execute_input": "2022-03-09T09:44:52.512856Z",
     "iopub.status.busy": "2022-03-09T09:44:52.512054Z",
     "iopub.status.idle": "2022-03-09T09:44:52.549192Z",
     "shell.execute_reply": "2022-03-09T09:44:52.549897Z",
     "shell.execute_reply.started": "2022-03-09T07:25:15.432464Z"
    },
    "papermill": {
     "duration": 0.089382,
     "end_time": "2022-03-09T09:44:52.550620",
     "exception": false,
     "start_time": "2022-03-09T09:44:52.461238",
     "status": "completed"
    },
    "tags": []
   },
   "outputs": [
    {
     "data": {
      "text/html": [
       "<div>\n",
       "<style scoped>\n",
       "    .dataframe tbody tr th:only-of-type {\n",
       "        vertical-align: middle;\n",
       "    }\n",
       "\n",
       "    .dataframe tbody tr th {\n",
       "        vertical-align: top;\n",
       "    }\n",
       "\n",
       "    .dataframe thead th {\n",
       "        text-align: right;\n",
       "    }\n",
       "</style>\n",
       "<table border=\"1\" class=\"dataframe\">\n",
       "  <thead>\n",
       "    <tr style=\"text-align: right;\">\n",
       "      <th></th>\n",
       "      <th>Age</th>\n",
       "      <th>Attrition</th>\n",
       "      <th>Department</th>\n",
       "      <th>DistanceFromHome</th>\n",
       "      <th>Education</th>\n",
       "      <th>EducationField</th>\n",
       "      <th>EnvironmentSatisfaction</th>\n",
       "      <th>JobSatisfaction</th>\n",
       "      <th>MaritalStatus</th>\n",
       "      <th>MonthlyIncome</th>\n",
       "      <th>NumCompaniesWorked</th>\n",
       "      <th>WorkLifeBalance</th>\n",
       "      <th>YearsAtCompany</th>\n",
       "    </tr>\n",
       "  </thead>\n",
       "  <tbody>\n",
       "    <tr>\n",
       "      <th>0</th>\n",
       "      <td>41</td>\n",
       "      <td>Yes</td>\n",
       "      <td>Sales</td>\n",
       "      <td>1</td>\n",
       "      <td>2</td>\n",
       "      <td>Life Sciences</td>\n",
       "      <td>2</td>\n",
       "      <td>4</td>\n",
       "      <td>Single</td>\n",
       "      <td>5993</td>\n",
       "      <td>8</td>\n",
       "      <td>1</td>\n",
       "      <td>6</td>\n",
       "    </tr>\n",
       "    <tr>\n",
       "      <th>1</th>\n",
       "      <td>49</td>\n",
       "      <td>No</td>\n",
       "      <td>Research &amp; Development</td>\n",
       "      <td>8</td>\n",
       "      <td>1</td>\n",
       "      <td>Life Sciences</td>\n",
       "      <td>3</td>\n",
       "      <td>2</td>\n",
       "      <td>Married</td>\n",
       "      <td>5130</td>\n",
       "      <td>1</td>\n",
       "      <td>3</td>\n",
       "      <td>10</td>\n",
       "    </tr>\n",
       "    <tr>\n",
       "      <th>2</th>\n",
       "      <td>37</td>\n",
       "      <td>Yes</td>\n",
       "      <td>Research &amp; Development</td>\n",
       "      <td>2</td>\n",
       "      <td>2</td>\n",
       "      <td>Other</td>\n",
       "      <td>4</td>\n",
       "      <td>3</td>\n",
       "      <td>Single</td>\n",
       "      <td>2090</td>\n",
       "      <td>6</td>\n",
       "      <td>3</td>\n",
       "      <td>0</td>\n",
       "    </tr>\n",
       "    <tr>\n",
       "      <th>3</th>\n",
       "      <td>33</td>\n",
       "      <td>No</td>\n",
       "      <td>Research &amp; Development</td>\n",
       "      <td>3</td>\n",
       "      <td>4</td>\n",
       "      <td>Life Sciences</td>\n",
       "      <td>4</td>\n",
       "      <td>3</td>\n",
       "      <td>Married</td>\n",
       "      <td>2909</td>\n",
       "      <td>1</td>\n",
       "      <td>3</td>\n",
       "      <td>8</td>\n",
       "    </tr>\n",
       "    <tr>\n",
       "      <th>4</th>\n",
       "      <td>27</td>\n",
       "      <td>No</td>\n",
       "      <td>Research &amp; Development</td>\n",
       "      <td>2</td>\n",
       "      <td>1</td>\n",
       "      <td>Medical</td>\n",
       "      <td>1</td>\n",
       "      <td>2</td>\n",
       "      <td>Married</td>\n",
       "      <td>3468</td>\n",
       "      <td>9</td>\n",
       "      <td>3</td>\n",
       "      <td>2</td>\n",
       "    </tr>\n",
       "    <tr>\n",
       "      <th>...</th>\n",
       "      <td>...</td>\n",
       "      <td>...</td>\n",
       "      <td>...</td>\n",
       "      <td>...</td>\n",
       "      <td>...</td>\n",
       "      <td>...</td>\n",
       "      <td>...</td>\n",
       "      <td>...</td>\n",
       "      <td>...</td>\n",
       "      <td>...</td>\n",
       "      <td>...</td>\n",
       "      <td>...</td>\n",
       "      <td>...</td>\n",
       "    </tr>\n",
       "    <tr>\n",
       "      <th>1465</th>\n",
       "      <td>36</td>\n",
       "      <td>No</td>\n",
       "      <td>Research &amp; Development</td>\n",
       "      <td>23</td>\n",
       "      <td>2</td>\n",
       "      <td>Medical</td>\n",
       "      <td>3</td>\n",
       "      <td>4</td>\n",
       "      <td>Married</td>\n",
       "      <td>2571</td>\n",
       "      <td>4</td>\n",
       "      <td>3</td>\n",
       "      <td>5</td>\n",
       "    </tr>\n",
       "    <tr>\n",
       "      <th>1466</th>\n",
       "      <td>39</td>\n",
       "      <td>No</td>\n",
       "      <td>Research &amp; Development</td>\n",
       "      <td>6</td>\n",
       "      <td>1</td>\n",
       "      <td>Medical</td>\n",
       "      <td>4</td>\n",
       "      <td>1</td>\n",
       "      <td>Married</td>\n",
       "      <td>9991</td>\n",
       "      <td>4</td>\n",
       "      <td>3</td>\n",
       "      <td>7</td>\n",
       "    </tr>\n",
       "    <tr>\n",
       "      <th>1467</th>\n",
       "      <td>27</td>\n",
       "      <td>No</td>\n",
       "      <td>Research &amp; Development</td>\n",
       "      <td>4</td>\n",
       "      <td>3</td>\n",
       "      <td>Life Sciences</td>\n",
       "      <td>2</td>\n",
       "      <td>2</td>\n",
       "      <td>Married</td>\n",
       "      <td>6142</td>\n",
       "      <td>1</td>\n",
       "      <td>3</td>\n",
       "      <td>6</td>\n",
       "    </tr>\n",
       "    <tr>\n",
       "      <th>1468</th>\n",
       "      <td>49</td>\n",
       "      <td>No</td>\n",
       "      <td>Sales</td>\n",
       "      <td>2</td>\n",
       "      <td>3</td>\n",
       "      <td>Medical</td>\n",
       "      <td>4</td>\n",
       "      <td>2</td>\n",
       "      <td>Married</td>\n",
       "      <td>5390</td>\n",
       "      <td>2</td>\n",
       "      <td>2</td>\n",
       "      <td>9</td>\n",
       "    </tr>\n",
       "    <tr>\n",
       "      <th>1469</th>\n",
       "      <td>34</td>\n",
       "      <td>No</td>\n",
       "      <td>Research &amp; Development</td>\n",
       "      <td>8</td>\n",
       "      <td>3</td>\n",
       "      <td>Medical</td>\n",
       "      <td>2</td>\n",
       "      <td>3</td>\n",
       "      <td>Married</td>\n",
       "      <td>4404</td>\n",
       "      <td>2</td>\n",
       "      <td>4</td>\n",
       "      <td>4</td>\n",
       "    </tr>\n",
       "  </tbody>\n",
       "</table>\n",
       "<p>1470 rows × 13 columns</p>\n",
       "</div>"
      ],
      "text/plain": [
       "      Age Attrition              Department  DistanceFromHome  Education  \\\n",
       "0      41       Yes                   Sales                 1          2   \n",
       "1      49        No  Research & Development                 8          1   \n",
       "2      37       Yes  Research & Development                 2          2   \n",
       "3      33        No  Research & Development                 3          4   \n",
       "4      27        No  Research & Development                 2          1   \n",
       "...   ...       ...                     ...               ...        ...   \n",
       "1465   36        No  Research & Development                23          2   \n",
       "1466   39        No  Research & Development                 6          1   \n",
       "1467   27        No  Research & Development                 4          3   \n",
       "1468   49        No                   Sales                 2          3   \n",
       "1469   34        No  Research & Development                 8          3   \n",
       "\n",
       "     EducationField  EnvironmentSatisfaction  JobSatisfaction MaritalStatus  \\\n",
       "0     Life Sciences                        2                4        Single   \n",
       "1     Life Sciences                        3                2       Married   \n",
       "2             Other                        4                3        Single   \n",
       "3     Life Sciences                        4                3       Married   \n",
       "4           Medical                        1                2       Married   \n",
       "...             ...                      ...              ...           ...   \n",
       "1465        Medical                        3                4       Married   \n",
       "1466        Medical                        4                1       Married   \n",
       "1467  Life Sciences                        2                2       Married   \n",
       "1468        Medical                        4                2       Married   \n",
       "1469        Medical                        2                3       Married   \n",
       "\n",
       "      MonthlyIncome  NumCompaniesWorked  WorkLifeBalance  YearsAtCompany  \n",
       "0              5993                   8                1               6  \n",
       "1              5130                   1                3              10  \n",
       "2              2090                   6                3               0  \n",
       "3              2909                   1                3               8  \n",
       "4              3468                   9                3               2  \n",
       "...             ...                 ...              ...             ...  \n",
       "1465           2571                   4                3               5  \n",
       "1466           9991                   4                3               7  \n",
       "1467           6142                   1                3               6  \n",
       "1468           5390                   2                2               9  \n",
       "1469           4404                   2                4               4  \n",
       "\n",
       "[1470 rows x 13 columns]"
      ]
     },
     "execution_count": 4,
     "metadata": {},
     "output_type": "execute_result"
    }
   ],
   "source": [
    "ibm_hr_data"
   ]
  },
  {
   "cell_type": "code",
   "execution_count": 5,
   "id": "52ab1616",
   "metadata": {
    "execution": {
     "iopub.execute_input": "2022-03-09T09:44:52.642052Z",
     "iopub.status.busy": "2022-03-09T09:44:52.641265Z",
     "iopub.status.idle": "2022-03-09T09:44:52.650958Z",
     "shell.execute_reply": "2022-03-09T09:44:52.651437Z",
     "shell.execute_reply.started": "2022-03-09T07:25:38.493999Z"
    },
    "papermill": {
     "duration": 0.055882,
     "end_time": "2022-03-09T09:44:52.651576",
     "exception": false,
     "start_time": "2022-03-09T09:44:52.595694",
     "status": "completed"
    },
    "tags": []
   },
   "outputs": [
    {
     "data": {
      "text/html": [
       "<div>\n",
       "<style scoped>\n",
       "    .dataframe tbody tr th:only-of-type {\n",
       "        vertical-align: middle;\n",
       "    }\n",
       "\n",
       "    .dataframe tbody tr th {\n",
       "        vertical-align: top;\n",
       "    }\n",
       "\n",
       "    .dataframe thead th {\n",
       "        text-align: right;\n",
       "    }\n",
       "</style>\n",
       "<table border=\"1\" class=\"dataframe\">\n",
       "  <thead>\n",
       "    <tr style=\"text-align: right;\">\n",
       "      <th></th>\n",
       "      <th>Age</th>\n",
       "      <th>Attrition</th>\n",
       "      <th>Department</th>\n",
       "      <th>DistanceFromHome</th>\n",
       "      <th>Education</th>\n",
       "      <th>EducationField</th>\n",
       "      <th>EnvironmentSatisfaction</th>\n",
       "      <th>JobSatisfaction</th>\n",
       "      <th>MaritalStatus</th>\n",
       "      <th>MonthlyIncome</th>\n",
       "      <th>NumCompaniesWorked</th>\n",
       "      <th>WorkLifeBalance</th>\n",
       "      <th>YearsAtCompany</th>\n",
       "    </tr>\n",
       "  </thead>\n",
       "  <tbody>\n",
       "    <tr>\n",
       "      <th>0</th>\n",
       "      <td>41</td>\n",
       "      <td>Yes</td>\n",
       "      <td>Sales</td>\n",
       "      <td>1</td>\n",
       "      <td>2</td>\n",
       "      <td>Life Sciences</td>\n",
       "      <td>2</td>\n",
       "      <td>4</td>\n",
       "      <td>Single</td>\n",
       "      <td>5993</td>\n",
       "      <td>8</td>\n",
       "      <td>1</td>\n",
       "      <td>6</td>\n",
       "    </tr>\n",
       "    <tr>\n",
       "      <th>1</th>\n",
       "      <td>49</td>\n",
       "      <td>No</td>\n",
       "      <td>Research &amp; Development</td>\n",
       "      <td>8</td>\n",
       "      <td>1</td>\n",
       "      <td>Life Sciences</td>\n",
       "      <td>3</td>\n",
       "      <td>2</td>\n",
       "      <td>Married</td>\n",
       "      <td>5130</td>\n",
       "      <td>1</td>\n",
       "      <td>3</td>\n",
       "      <td>10</td>\n",
       "    </tr>\n",
       "    <tr>\n",
       "      <th>2</th>\n",
       "      <td>37</td>\n",
       "      <td>Yes</td>\n",
       "      <td>Research &amp; Development</td>\n",
       "      <td>2</td>\n",
       "      <td>2</td>\n",
       "      <td>Other</td>\n",
       "      <td>4</td>\n",
       "      <td>3</td>\n",
       "      <td>Single</td>\n",
       "      <td>2090</td>\n",
       "      <td>6</td>\n",
       "      <td>3</td>\n",
       "      <td>0</td>\n",
       "    </tr>\n",
       "    <tr>\n",
       "      <th>3</th>\n",
       "      <td>33</td>\n",
       "      <td>No</td>\n",
       "      <td>Research &amp; Development</td>\n",
       "      <td>3</td>\n",
       "      <td>4</td>\n",
       "      <td>Life Sciences</td>\n",
       "      <td>4</td>\n",
       "      <td>3</td>\n",
       "      <td>Married</td>\n",
       "      <td>2909</td>\n",
       "      <td>1</td>\n",
       "      <td>3</td>\n",
       "      <td>8</td>\n",
       "    </tr>\n",
       "    <tr>\n",
       "      <th>4</th>\n",
       "      <td>27</td>\n",
       "      <td>No</td>\n",
       "      <td>Research &amp; Development</td>\n",
       "      <td>2</td>\n",
       "      <td>1</td>\n",
       "      <td>Medical</td>\n",
       "      <td>1</td>\n",
       "      <td>2</td>\n",
       "      <td>Married</td>\n",
       "      <td>3468</td>\n",
       "      <td>9</td>\n",
       "      <td>3</td>\n",
       "      <td>2</td>\n",
       "    </tr>\n",
       "  </tbody>\n",
       "</table>\n",
       "</div>"
      ],
      "text/plain": [
       "   Age Attrition              Department  DistanceFromHome  Education  \\\n",
       "0   41       Yes                   Sales                 1          2   \n",
       "1   49        No  Research & Development                 8          1   \n",
       "2   37       Yes  Research & Development                 2          2   \n",
       "3   33        No  Research & Development                 3          4   \n",
       "4   27        No  Research & Development                 2          1   \n",
       "\n",
       "  EducationField  EnvironmentSatisfaction  JobSatisfaction MaritalStatus  \\\n",
       "0  Life Sciences                        2                4        Single   \n",
       "1  Life Sciences                        3                2       Married   \n",
       "2          Other                        4                3        Single   \n",
       "3  Life Sciences                        4                3       Married   \n",
       "4        Medical                        1                2       Married   \n",
       "\n",
       "   MonthlyIncome  NumCompaniesWorked  WorkLifeBalance  YearsAtCompany  \n",
       "0           5993                   8                1               6  \n",
       "1           5130                   1                3              10  \n",
       "2           2090                   6                3               0  \n",
       "3           2909                   1                3               8  \n",
       "4           3468                   9                3               2  "
      ]
     },
     "execution_count": 5,
     "metadata": {},
     "output_type": "execute_result"
    }
   ],
   "source": [
    "ibm_hr_data.head()"
   ]
  },
  {
   "cell_type": "code",
   "execution_count": 6,
   "id": "bf6a11b6",
   "metadata": {
    "execution": {
     "iopub.execute_input": "2022-03-09T09:44:52.738402Z",
     "iopub.status.busy": "2022-03-09T09:44:52.737682Z",
     "iopub.status.idle": "2022-03-09T09:44:52.759770Z",
     "shell.execute_reply": "2022-03-09T09:44:52.760399Z",
     "shell.execute_reply.started": "2022-03-09T07:26:03.212863Z"
    },
    "papermill": {
     "duration": 0.066443,
     "end_time": "2022-03-09T09:44:52.760604",
     "exception": false,
     "start_time": "2022-03-09T09:44:52.694161",
     "status": "completed"
    },
    "tags": []
   },
   "outputs": [
    {
     "name": "stdout",
     "output_type": "stream",
     "text": [
      "<class 'pandas.core.frame.DataFrame'>\n",
      "RangeIndex: 1470 entries, 0 to 1469\n",
      "Data columns (total 13 columns):\n",
      " #   Column                   Non-Null Count  Dtype \n",
      "---  ------                   --------------  ----- \n",
      " 0   Age                      1470 non-null   int64 \n",
      " 1   Attrition                1470 non-null   object\n",
      " 2   Department               1470 non-null   object\n",
      " 3   DistanceFromHome         1470 non-null   int64 \n",
      " 4   Education                1470 non-null   int64 \n",
      " 5   EducationField           1470 non-null   object\n",
      " 6   EnvironmentSatisfaction  1470 non-null   int64 \n",
      " 7   JobSatisfaction          1470 non-null   int64 \n",
      " 8   MaritalStatus            1470 non-null   object\n",
      " 9   MonthlyIncome            1470 non-null   int64 \n",
      " 10  NumCompaniesWorked       1470 non-null   int64 \n",
      " 11  WorkLifeBalance          1470 non-null   int64 \n",
      " 12  YearsAtCompany           1470 non-null   int64 \n",
      "dtypes: int64(9), object(4)\n",
      "memory usage: 149.4+ KB\n"
     ]
    }
   ],
   "source": [
    "ibm_hr_data.info()"
   ]
  },
  {
   "cell_type": "code",
   "execution_count": 7,
   "id": "1d057f2b",
   "metadata": {
    "execution": {
     "iopub.execute_input": "2022-03-09T09:44:52.895892Z",
     "iopub.status.busy": "2022-03-09T09:44:52.894928Z",
     "iopub.status.idle": "2022-03-09T09:44:52.898670Z",
     "shell.execute_reply": "2022-03-09T09:44:52.898060Z",
     "shell.execute_reply.started": "2022-03-09T07:27:31.007897Z"
    },
    "papermill": {
     "duration": 0.073162,
     "end_time": "2022-03-09T09:44:52.898851",
     "exception": false,
     "start_time": "2022-03-09T09:44:52.825689",
     "status": "completed"
    },
    "tags": []
   },
   "outputs": [
    {
     "data": {
      "text/plain": [
       "array(['Age', 'Attrition', 'Department', 'DistanceFromHome', 'Education',\n",
       "       'EducationField', 'EnvironmentSatisfaction', 'JobSatisfaction',\n",
       "       'MaritalStatus', 'MonthlyIncome', 'NumCompaniesWorked',\n",
       "       'WorkLifeBalance', 'YearsAtCompany'], dtype=object)"
      ]
     },
     "execution_count": 7,
     "metadata": {},
     "output_type": "execute_result"
    }
   ],
   "source": [
    "name = ibm_hr_data.columns.values\n",
    "name"
   ]
  },
  {
   "cell_type": "code",
   "execution_count": 8,
   "id": "8e3c4d54",
   "metadata": {
    "execution": {
     "iopub.execute_input": "2022-03-09T09:44:53.035156Z",
     "iopub.status.busy": "2022-03-09T09:44:53.034288Z",
     "iopub.status.idle": "2022-03-09T09:44:53.419524Z",
     "shell.execute_reply": "2022-03-09T09:44:53.418928Z",
     "shell.execute_reply.started": "2022-03-09T07:28:02.891285Z"
    },
    "papermill": {
     "duration": 0.453739,
     "end_time": "2022-03-09T09:44:53.419669",
     "exception": false,
     "start_time": "2022-03-09T09:44:52.965930",
     "status": "completed"
    },
    "tags": []
   },
   "outputs": [
    {
     "data": {
      "image/png": "[encoded data removed]",
      "text/plain": [
       "<Figure size 720x504 with 1 Axes>"
      ]
     },
     "metadata": {
      "needs_background": "light"
     },
     "output_type": "display_data"
    }
   ],
   "source": [
    "# Age of employee\n",
    "plt.figure(figsize=(10,7))\n",
    "ibm_hr_data['Age'].hist(bins=70)\n",
    "plt.title(\"Age distribution of employees\")\n",
    "plt.xlabel('Age')\n",
    "plt.ylabel('# of employees')\n",
    "plt.show()"
   ]
  },
  {
   "cell_type": "code",
   "execution_count": 9,
   "id": "02f23dc9",
   "metadata": {
    "execution": {
     "iopub.execute_input": "2022-03-09T09:44:53.586252Z",
     "iopub.status.busy": "2022-03-09T09:44:53.558324Z",
     "iopub.status.idle": "2022-03-09T09:44:53.712282Z",
     "shell.execute_reply": "2022-03-09T09:44:53.711439Z",
     "shell.execute_reply.started": "2022-03-09T07:31:17.367995Z"
    },
    "papermill": {
     "duration": 0.226023,
     "end_time": "2022-03-09T09:44:53.712466",
     "exception": false,
     "start_time": "2022-03-09T09:44:53.486443",
     "status": "completed"
    },
    "tags": []
   },
   "outputs": [
    {
     "data": {
      "image/png": "[encoded data removed]",
      "text/plain": [
       "<Figure size 720x576 with 1 Axes>"
      ]
     },
     "metadata": {
      "needs_background": "light"
     },
     "output_type": "display_data"
    }
   ],
   "source": [
    "#Attrition: Employee attrition age\n",
    "plt.figure(figsize=(10, 8))\n",
    "plt.scatter(ibm_hr_data.Attrition, ibm_hr_data.Age, alpha=.55)\n",
    "plt.title('Attrition of employee base on age')\n",
    "plt.ylabel(\"Age\")\n",
    "plt.grid(visible=True, which='major',axis='y')\n",
    "plt.show()"
   ]
  },
  {
   "cell_type": "code",
   "execution_count": 10,
   "id": "9225a316",
   "metadata": {
    "execution": {
     "iopub.execute_input": "2022-03-09T09:44:53.827646Z",
     "iopub.status.busy": "2022-03-09T09:44:53.804968Z",
     "iopub.status.idle": "2022-03-09T09:44:53.922887Z",
     "shell.execute_reply": "2022-03-09T09:44:53.923541Z",
     "shell.execute_reply.started": "2022-03-09T07:31:54.226615Z"
    },
    "papermill": {
     "duration": 0.167059,
     "end_time": "2022-03-09T09:44:53.923765",
     "exception": false,
     "start_time": "2022-03-09T09:44:53.756706",
     "status": "completed"
    },
    "tags": []
   },
   "outputs": [
    {
     "data": {
      "image/png": "[encoded data removed]",
      "text/plain": [
       "<Figure size 576x432 with 1 Axes>"
      ]
     },
     "metadata": {
      "needs_background": "light"
     },
     "output_type": "display_data"
    }
   ],
   "source": [
    "# Exploring the attrition some more\n",
    "plt.figure(figsize=(8,6))\n",
    "ibm_hr_data.Attrition.value_counts().plot(kind='barh', color='blue', alpha=.50)\n",
    "plt.title(\"Attrition breakdown \")\n",
    "plt.show()"
   ]
  },
  {
   "cell_type": "code",
   "execution_count": 11,
   "id": "0c0fd663",
   "metadata": {
    "execution": {
     "iopub.execute_input": "2022-03-09T09:44:54.068827Z",
     "iopub.status.busy": "2022-03-09T09:44:54.067954Z",
     "iopub.status.idle": "2022-03-09T09:44:54.330975Z",
     "shell.execute_reply": "2022-03-09T09:44:54.331578Z",
     "shell.execute_reply.started": "2022-03-09T07:33:08.697281Z"
    },
    "papermill": {
     "duration": 0.336047,
     "end_time": "2022-03-09T09:44:54.331803",
     "exception": false,
     "start_time": "2022-03-09T09:44:53.995756",
     "status": "completed"
    },
    "tags": []
   },
   "outputs": [
    {
     "data": {
      "image/png": "[encoded data removed]",
      "text/plain": [
       "<Figure size 720x504 with 1 Axes>"
      ]
     },
     "metadata": {
      "needs_background": "light"
     },
     "output_type": "display_data"
    }
   ],
   "source": [
    "# Exploring the Distance from home\n",
    "plt.figure(figsize=(10,7))\n",
    "ibm_hr_data['DistanceFromHome'].hist(bins=70, color=\"orange\", alpha=.70)\n",
    "plt.title(\"Employees Distance From Home\")\n",
    "plt.xlabel('Distance From Home')\n",
    "plt.ylabel('# of employees')\n",
    "plt.show()"
   ]
  },
  {
   "cell_type": "code",
   "execution_count": 12,
   "id": "0cf3958e",
   "metadata": {
    "execution": {
     "iopub.execute_input": "2022-03-09T09:44:54.504431Z",
     "iopub.status.busy": "2022-03-09T09:44:54.486399Z",
     "iopub.status.idle": "2022-03-09T09:44:54.634636Z",
     "shell.execute_reply": "2022-03-09T09:44:54.635217Z",
     "shell.execute_reply.started": "2022-03-09T07:33:28.691943Z"
    },
    "papermill": {
     "duration": 0.233032,
     "end_time": "2022-03-09T09:44:54.635393",
     "exception": false,
     "start_time": "2022-03-09T09:44:54.402361",
     "status": "completed"
    },
    "tags": []
   },
   "outputs": [
    {
     "data": {
      "image/png": "[encoded data removed]",
      "text/plain": [
       "<Figure size 720x576 with 1 Axes>"
      ]
     },
     "metadata": {
      "needs_background": "light"
     },
     "output_type": "display_data"
    }
   ],
   "source": [
    "#exploring data from the Education distribution\n",
    "plt.figure(figsize=(10,8))\n",
    "ibm_hr_data.EducationField.value_counts().plot(kind=\"barh\", color=\"green\", alpha=.40)\n",
    "plt.title(\"Education Background of Employee\")\n",
    "plt.show()"
   ]
  },
  {
   "cell_type": "code",
   "execution_count": 13,
   "id": "2eb8a405",
   "metadata": {
    "execution": {
     "iopub.execute_input": "2022-03-09T09:44:54.784634Z",
     "iopub.status.busy": "2022-03-09T09:44:54.783920Z",
     "iopub.status.idle": "2022-03-09T09:44:54.917518Z",
     "shell.execute_reply": "2022-03-09T09:44:54.918199Z",
     "shell.execute_reply.started": "2022-03-09T07:34:51.316641Z"
    },
    "papermill": {
     "duration": 0.210735,
     "end_time": "2022-03-09T09:44:54.918397",
     "exception": false,
     "start_time": "2022-03-09T09:44:54.707662",
     "status": "completed"
    },
    "tags": []
   },
   "outputs": [
    {
     "data": {
      "image/png": "[encoded data removed]",
      "text/plain": [
       "<Figure size 720x576 with 1 Axes>"
      ]
     },
     "metadata": {
      "needs_background": "light"
     },
     "output_type": "display_data"
    }
   ],
   "source": [
    "# Exploring Marital Status rating of employee\n",
    "plt.figure(figsize=(10,8))\n",
    "ibm_hr_data.MaritalStatus.value_counts().plot(kind='bar', alpha=.60, color='blue')\n",
    "plt.title(\"Marital Status of Employees\")\n",
    "plt.show()"
   ]
  },
  {
   "cell_type": "code",
   "execution_count": 14,
   "id": "453f0b04",
   "metadata": {
    "execution": {
     "iopub.execute_input": "2022-03-09T09:44:55.077506Z",
     "iopub.status.busy": "2022-03-09T09:44:55.067113Z",
     "iopub.status.idle": "2022-03-09T09:44:55.320267Z",
     "shell.execute_reply": "2022-03-09T09:44:55.319616Z",
     "shell.execute_reply.started": "2022-03-09T07:35:22.569984Z"
    },
    "papermill": {
     "duration": 0.329697,
     "end_time": "2022-03-09T09:44:55.320404",
     "exception": false,
     "start_time": "2022-03-09T09:44:54.990707",
     "status": "completed"
    },
    "tags": []
   },
   "outputs": [
    {
     "data": {
      "image/png": "[encoded data removed]",
      "text/plain": [
       "<Figure size 720x504 with 1 Axes>"
      ]
     },
     "metadata": {
      "needs_background": "light"
     },
     "output_type": "display_data"
    }
   ],
   "source": [
    "# Exploring the Distance from home\n",
    "plt.figure(figsize=(10,7))\n",
    "ibm_hr_data['MonthlyIncome'].hist(bins=70, color=\"orange\", alpha=.70)\n",
    "plt.title(\"Monthly Income of Employees\")\n",
    "plt.xlabel('Monthly Income')\n",
    "plt.ylabel('# of employees')\n",
    "plt.show()"
   ]
  },
  {
   "cell_type": "code",
   "execution_count": 15,
   "id": "a66ea5fd",
   "metadata": {
    "execution": {
     "iopub.execute_input": "2022-03-09T09:44:55.422075Z",
     "iopub.status.busy": "2022-03-09T09:44:55.421272Z",
     "iopub.status.idle": "2022-03-09T09:44:55.446096Z",
     "shell.execute_reply": "2022-03-09T09:44:55.446981Z",
     "shell.execute_reply.started": "2022-03-09T07:35:45.436966Z"
    },
    "papermill": {
     "duration": 0.079166,
     "end_time": "2022-03-09T09:44:55.447244",
     "exception": false,
     "start_time": "2022-03-09T09:44:55.368078",
     "status": "completed"
    },
    "tags": []
   },
   "outputs": [
    {
     "data": {
      "text/html": [
       "<div>\n",
       "<style scoped>\n",
       "    .dataframe tbody tr th:only-of-type {\n",
       "        vertical-align: middle;\n",
       "    }\n",
       "\n",
       "    .dataframe tbody tr th {\n",
       "        vertical-align: top;\n",
       "    }\n",
       "\n",
       "    .dataframe thead th {\n",
       "        text-align: right;\n",
       "    }\n",
       "</style>\n",
       "<table border=\"1\" class=\"dataframe\">\n",
       "  <thead>\n",
       "    <tr style=\"text-align: right;\">\n",
       "      <th></th>\n",
       "      <th>Age</th>\n",
       "      <th>DistanceFromHome</th>\n",
       "      <th>Education</th>\n",
       "      <th>EnvironmentSatisfaction</th>\n",
       "      <th>JobSatisfaction</th>\n",
       "      <th>MonthlyIncome</th>\n",
       "      <th>NumCompaniesWorked</th>\n",
       "      <th>WorkLifeBalance</th>\n",
       "      <th>YearsAtCompany</th>\n",
       "    </tr>\n",
       "  </thead>\n",
       "  <tbody>\n",
       "    <tr>\n",
       "      <th>count</th>\n",
       "      <td>1470.000000</td>\n",
       "      <td>1470.000000</td>\n",
       "      <td>1470.000000</td>\n",
       "      <td>1470.000000</td>\n",
       "      <td>1470.000000</td>\n",
       "      <td>1470.000000</td>\n",
       "      <td>1470.000000</td>\n",
       "      <td>1470.000000</td>\n",
       "      <td>1470.000000</td>\n",
       "    </tr>\n",
       "    <tr>\n",
       "      <th>mean</th>\n",
       "      <td>36.923810</td>\n",
       "      <td>9.192517</td>\n",
       "      <td>2.912925</td>\n",
       "      <td>2.721769</td>\n",
       "      <td>2.728571</td>\n",
       "      <td>6502.931293</td>\n",
       "      <td>2.693197</td>\n",
       "      <td>2.761224</td>\n",
       "      <td>7.008163</td>\n",
       "    </tr>\n",
       "    <tr>\n",
       "      <th>std</th>\n",
       "      <td>9.135373</td>\n",
       "      <td>8.106864</td>\n",
       "      <td>1.024165</td>\n",
       "      <td>1.093082</td>\n",
       "      <td>1.102846</td>\n",
       "      <td>4707.956783</td>\n",
       "      <td>2.498009</td>\n",
       "      <td>0.706476</td>\n",
       "      <td>6.126525</td>\n",
       "    </tr>\n",
       "    <tr>\n",
       "      <th>min</th>\n",
       "      <td>18.000000</td>\n",
       "      <td>1.000000</td>\n",
       "      <td>1.000000</td>\n",
       "      <td>1.000000</td>\n",
       "      <td>1.000000</td>\n",
       "      <td>1009.000000</td>\n",
       "      <td>0.000000</td>\n",
       "      <td>1.000000</td>\n",
       "      <td>0.000000</td>\n",
       "    </tr>\n",
       "    <tr>\n",
       "      <th>25%</th>\n",
       "      <td>30.000000</td>\n",
       "      <td>2.000000</td>\n",
       "      <td>2.000000</td>\n",
       "      <td>2.000000</td>\n",
       "      <td>2.000000</td>\n",
       "      <td>2911.000000</td>\n",
       "      <td>1.000000</td>\n",
       "      <td>2.000000</td>\n",
       "      <td>3.000000</td>\n",
       "    </tr>\n",
       "    <tr>\n",
       "      <th>50%</th>\n",
       "      <td>36.000000</td>\n",
       "      <td>7.000000</td>\n",
       "      <td>3.000000</td>\n",
       "      <td>3.000000</td>\n",
       "      <td>3.000000</td>\n",
       "      <td>4919.000000</td>\n",
       "      <td>2.000000</td>\n",
       "      <td>3.000000</td>\n",
       "      <td>5.000000</td>\n",
       "    </tr>\n",
       "    <tr>\n",
       "      <th>75%</th>\n",
       "      <td>43.000000</td>\n",
       "      <td>14.000000</td>\n",
       "      <td>4.000000</td>\n",
       "      <td>4.000000</td>\n",
       "      <td>4.000000</td>\n",
       "      <td>8379.000000</td>\n",
       "      <td>4.000000</td>\n",
       "      <td>3.000000</td>\n",
       "      <td>9.000000</td>\n",
       "    </tr>\n",
       "    <tr>\n",
       "      <th>max</th>\n",
       "      <td>60.000000</td>\n",
       "      <td>29.000000</td>\n",
       "      <td>5.000000</td>\n",
       "      <td>4.000000</td>\n",
       "      <td>4.000000</td>\n",
       "      <td>19999.000000</td>\n",
       "      <td>9.000000</td>\n",
       "      <td>4.000000</td>\n",
       "      <td>40.000000</td>\n",
       "    </tr>\n",
       "  </tbody>\n",
       "</table>\n",
       "</div>"
      ],
      "text/plain": [
       "               Age  DistanceFromHome    Education  EnvironmentSatisfaction  \\\n",
       "count  1470.000000       1470.000000  1470.000000              1470.000000   \n",
       "mean     36.923810          9.192517     2.912925                 2.721769   \n",
       "std       9.135373          8.106864     1.024165                 1.093082   \n",
       "min      18.000000          1.000000     1.000000                 1.000000   \n",
       "25%      30.000000          2.000000     2.000000                 2.000000   \n",
       "50%      36.000000          7.000000     3.000000                 3.000000   \n",
       "75%      43.000000         14.000000     4.000000                 4.000000   \n",
       "max      60.000000         29.000000     5.000000                 4.000000   \n",
       "\n",
       "       JobSatisfaction  MonthlyIncome  NumCompaniesWorked  WorkLifeBalance  \\\n",
       "count      1470.000000    1470.000000         1470.000000      1470.000000   \n",
       "mean          2.728571    6502.931293            2.693197         2.761224   \n",
       "std           1.102846    4707.956783            2.498009         0.706476   \n",
       "min           1.000000    1009.000000            0.000000         1.000000   \n",
       "25%           2.000000    2911.000000            1.000000         2.000000   \n",
       "50%           3.000000    4919.000000            2.000000         3.000000   \n",
       "75%           4.000000    8379.000000            4.000000         3.000000   \n",
       "max           4.000000   19999.000000            9.000000         4.000000   \n",
       "\n",
       "       YearsAtCompany  \n",
       "count     1470.000000  \n",
       "mean         7.008163  \n",
       "std          6.126525  \n",
       "min          0.000000  \n",
       "25%          3.000000  \n",
       "50%          5.000000  \n",
       "75%          9.000000  \n",
       "max         40.000000  "
      ]
     },
     "execution_count": 15,
     "metadata": {},
     "output_type": "execute_result"
    }
   ],
   "source": [
    "ibm_hr_data.describe()"
   ]
  },
  {
   "cell_type": "code",
   "execution_count": 16,
   "id": "88deaf97",
   "metadata": {
    "execution": {
     "iopub.execute_input": "2022-03-09T09:44:55.598392Z",
     "iopub.status.busy": "2022-03-09T09:44:55.597558Z",
     "iopub.status.idle": "2022-03-09T09:44:55.604884Z",
     "shell.execute_reply": "2022-03-09T09:44:55.604291Z",
     "shell.execute_reply.started": "2022-03-09T07:37:11.978545Z"
    },
    "papermill": {
     "duration": 0.084603,
     "end_time": "2022-03-09T09:44:55.605081",
     "exception": false,
     "start_time": "2022-03-09T09:44:55.520478",
     "status": "completed"
    },
    "tags": []
   },
   "outputs": [
    {
     "data": {
      "text/plain": [
       "3    893\n",
       "2    344\n",
       "4    153\n",
       "1     80\n",
       "Name: WorkLifeBalance, dtype: int64"
      ]
     },
     "execution_count": 16,
     "metadata": {},
     "output_type": "execute_result"
    }
   ],
   "source": [
    "ibm_hr_data.WorkLifeBalance.value_counts()"
   ]
  },
  {
   "cell_type": "code",
   "execution_count": 17,
   "id": "f069b01d",
   "metadata": {
    "execution": {
     "iopub.execute_input": "2022-03-09T09:44:55.799939Z",
     "iopub.status.busy": "2022-03-09T09:44:55.787382Z",
     "iopub.status.idle": "2022-03-09T09:44:56.007630Z",
     "shell.execute_reply": "2022-03-09T09:44:56.006964Z",
     "shell.execute_reply.started": "2022-03-09T07:37:43.107660Z"
    },
    "papermill": {
     "duration": 0.328285,
     "end_time": "2022-03-09T09:44:56.007805",
     "exception": false,
     "start_time": "2022-03-09T09:44:55.679520",
     "status": "completed"
    },
    "tags": []
   },
   "outputs": [
    {
     "data": {
      "image/png": "[encoded data removed]",
      "text/plain": [
       "<Figure size 720x504 with 1 Axes>"
      ]
     },
     "metadata": {
      "needs_background": "light"
     },
     "output_type": "display_data"
    }
   ],
   "source": [
    "# Exploring the Number of companies worked prior to IBM\n",
    "plt.figure(figsize=(10,7))\n",
    "ibm_hr_data['NumCompaniesWorked'].hist(bins=70, color=\"orange\", alpha=.70)\n",
    "plt.title(\"Number of companies worked prior to IBM\")\n",
    "plt.xlabel('Num Companies Worked')\n",
    "plt.ylabel('# of employees')\n",
    "plt.show()"
   ]
  },
  {
   "cell_type": "code",
   "execution_count": 18,
   "id": "c414338b",
   "metadata": {
    "execution": {
     "iopub.execute_input": "2022-03-09T09:44:56.164193Z",
     "iopub.status.busy": "2022-03-09T09:44:56.163530Z",
     "iopub.status.idle": "2022-03-09T09:44:56.425119Z",
     "shell.execute_reply": "2022-03-09T09:44:56.424629Z",
     "shell.execute_reply.started": "2022-03-09T07:38:12.099746Z"
    },
    "papermill": {
     "duration": 0.341634,
     "end_time": "2022-03-09T09:44:56.425249",
     "exception": false,
     "start_time": "2022-03-09T09:44:56.083615",
     "status": "completed"
    },
    "tags": []
   },
   "outputs": [
    {
     "data": {
      "image/png": "[encoded data removed]",
      "text/plain": [
       "<Figure size 720x504 with 1 Axes>"
      ]
     },
     "metadata": {
      "needs_background": "light"
     },
     "output_type": "display_data"
    }
   ],
   "source": [
    "# Exploring the Current years of service in IBM\n",
    "plt.figure(figsize=(10,7))\n",
    "ibm_hr_data['YearsAtCompany'].hist(bins=70, color=\"blue\", alpha=.70)\n",
    "plt.title(\"Current years of service in IBM\")\n",
    "plt.xlabel('YearsAtCompany')\n",
    "plt.ylabel('# of employees')\n",
    "plt.show()"
   ]
  },
  {
   "cell_type": "code",
   "execution_count": 19,
   "id": "a1c46099",
   "metadata": {
    "execution": {
     "iopub.execute_input": "2022-03-09T09:44:56.531709Z",
     "iopub.status.busy": "2022-03-09T09:44:56.530938Z",
     "iopub.status.idle": "2022-03-09T09:44:56.559498Z",
     "shell.execute_reply": "2022-03-09T09:44:56.559007Z",
     "shell.execute_reply.started": "2022-03-09T07:38:32.875680Z"
    },
    "papermill": {
     "duration": 0.084109,
     "end_time": "2022-03-09T09:44:56.559621",
     "exception": false,
     "start_time": "2022-03-09T09:44:56.475512",
     "status": "completed"
    },
    "tags": []
   },
   "outputs": [
    {
     "data": {
      "text/html": [
       "<div>\n",
       "<style scoped>\n",
       "    .dataframe tbody tr th:only-of-type {\n",
       "        vertical-align: middle;\n",
       "    }\n",
       "\n",
       "    .dataframe tbody tr th {\n",
       "        vertical-align: top;\n",
       "    }\n",
       "\n",
       "    .dataframe thead th {\n",
       "        text-align: right;\n",
       "    }\n",
       "</style>\n",
       "<table border=\"1\" class=\"dataframe\">\n",
       "  <thead>\n",
       "    <tr style=\"text-align: right;\">\n",
       "      <th></th>\n",
       "      <th>Age</th>\n",
       "      <th>DistanceFromHome</th>\n",
       "      <th>Education</th>\n",
       "      <th>EnvironmentSatisfaction</th>\n",
       "      <th>JobSatisfaction</th>\n",
       "      <th>MonthlyIncome</th>\n",
       "      <th>NumCompaniesWorked</th>\n",
       "      <th>WorkLifeBalance</th>\n",
       "      <th>YearsAtCompany</th>\n",
       "    </tr>\n",
       "  </thead>\n",
       "  <tbody>\n",
       "    <tr>\n",
       "      <th>count</th>\n",
       "      <td>1470.000000</td>\n",
       "      <td>1470.000000</td>\n",
       "      <td>1470.000000</td>\n",
       "      <td>1470.000000</td>\n",
       "      <td>1470.000000</td>\n",
       "      <td>1470.000000</td>\n",
       "      <td>1470.000000</td>\n",
       "      <td>1470.000000</td>\n",
       "      <td>1470.000000</td>\n",
       "    </tr>\n",
       "    <tr>\n",
       "      <th>mean</th>\n",
       "      <td>36.923810</td>\n",
       "      <td>9.192517</td>\n",
       "      <td>2.912925</td>\n",
       "      <td>2.721769</td>\n",
       "      <td>2.728571</td>\n",
       "      <td>6502.931293</td>\n",
       "      <td>2.693197</td>\n",
       "      <td>2.761224</td>\n",
       "      <td>7.008163</td>\n",
       "    </tr>\n",
       "    <tr>\n",
       "      <th>std</th>\n",
       "      <td>9.135373</td>\n",
       "      <td>8.106864</td>\n",
       "      <td>1.024165</td>\n",
       "      <td>1.093082</td>\n",
       "      <td>1.102846</td>\n",
       "      <td>4707.956783</td>\n",
       "      <td>2.498009</td>\n",
       "      <td>0.706476</td>\n",
       "      <td>6.126525</td>\n",
       "    </tr>\n",
       "    <tr>\n",
       "      <th>min</th>\n",
       "      <td>18.000000</td>\n",
       "      <td>1.000000</td>\n",
       "      <td>1.000000</td>\n",
       "      <td>1.000000</td>\n",
       "      <td>1.000000</td>\n",
       "      <td>1009.000000</td>\n",
       "      <td>0.000000</td>\n",
       "      <td>1.000000</td>\n",
       "      <td>0.000000</td>\n",
       "    </tr>\n",
       "    <tr>\n",
       "      <th>25%</th>\n",
       "      <td>30.000000</td>\n",
       "      <td>2.000000</td>\n",
       "      <td>2.000000</td>\n",
       "      <td>2.000000</td>\n",
       "      <td>2.000000</td>\n",
       "      <td>2911.000000</td>\n",
       "      <td>1.000000</td>\n",
       "      <td>2.000000</td>\n",
       "      <td>3.000000</td>\n",
       "    </tr>\n",
       "    <tr>\n",
       "      <th>50%</th>\n",
       "      <td>36.000000</td>\n",
       "      <td>7.000000</td>\n",
       "      <td>3.000000</td>\n",
       "      <td>3.000000</td>\n",
       "      <td>3.000000</td>\n",
       "      <td>4919.000000</td>\n",
       "      <td>2.000000</td>\n",
       "      <td>3.000000</td>\n",
       "      <td>5.000000</td>\n",
       "    </tr>\n",
       "    <tr>\n",
       "      <th>75%</th>\n",
       "      <td>43.000000</td>\n",
       "      <td>14.000000</td>\n",
       "      <td>4.000000</td>\n",
       "      <td>4.000000</td>\n",
       "      <td>4.000000</td>\n",
       "      <td>8379.000000</td>\n",
       "      <td>4.000000</td>\n",
       "      <td>3.000000</td>\n",
       "      <td>9.000000</td>\n",
       "    </tr>\n",
       "    <tr>\n",
       "      <th>max</th>\n",
       "      <td>60.000000</td>\n",
       "      <td>29.000000</td>\n",
       "      <td>5.000000</td>\n",
       "      <td>4.000000</td>\n",
       "      <td>4.000000</td>\n",
       "      <td>19999.000000</td>\n",
       "      <td>9.000000</td>\n",
       "      <td>4.000000</td>\n",
       "      <td>40.000000</td>\n",
       "    </tr>\n",
       "  </tbody>\n",
       "</table>\n",
       "</div>"
      ],
      "text/plain": [
       "               Age  DistanceFromHome    Education  EnvironmentSatisfaction  \\\n",
       "count  1470.000000       1470.000000  1470.000000              1470.000000   \n",
       "mean     36.923810          9.192517     2.912925                 2.721769   \n",
       "std       9.135373          8.106864     1.024165                 1.093082   \n",
       "min      18.000000          1.000000     1.000000                 1.000000   \n",
       "25%      30.000000          2.000000     2.000000                 2.000000   \n",
       "50%      36.000000          7.000000     3.000000                 3.000000   \n",
       "75%      43.000000         14.000000     4.000000                 4.000000   \n",
       "max      60.000000         29.000000     5.000000                 4.000000   \n",
       "\n",
       "       JobSatisfaction  MonthlyIncome  NumCompaniesWorked  WorkLifeBalance  \\\n",
       "count      1470.000000    1470.000000         1470.000000      1470.000000   \n",
       "mean          2.728571    6502.931293            2.693197         2.761224   \n",
       "std           1.102846    4707.956783            2.498009         0.706476   \n",
       "min           1.000000    1009.000000            0.000000         1.000000   \n",
       "25%           2.000000    2911.000000            1.000000         2.000000   \n",
       "50%           3.000000    4919.000000            2.000000         3.000000   \n",
       "75%           4.000000    8379.000000            4.000000         3.000000   \n",
       "max           4.000000   19999.000000            9.000000         4.000000   \n",
       "\n",
       "       YearsAtCompany  \n",
       "count     1470.000000  \n",
       "mean         7.008163  \n",
       "std          6.126525  \n",
       "min          0.000000  \n",
       "25%          3.000000  \n",
       "50%          5.000000  \n",
       "75%          9.000000  \n",
       "max         40.000000  "
      ]
     },
     "execution_count": 19,
     "metadata": {},
     "output_type": "execute_result"
    }
   ],
   "source": [
    "ibm_hr_data.describe()"
   ]
  },
  {
   "cell_type": "code",
   "execution_count": 20,
   "id": "c31e7661",
   "metadata": {
    "execution": {
     "iopub.execute_input": "2022-03-09T09:44:56.670822Z",
     "iopub.status.busy": "2022-03-09T09:44:56.670220Z",
     "iopub.status.idle": "2022-03-09T09:44:56.673479Z",
     "shell.execute_reply": "2022-03-09T09:44:56.672976Z",
     "shell.execute_reply.started": "2022-03-09T07:38:49.579775Z"
    },
    "papermill": {
     "duration": 0.064567,
     "end_time": "2022-03-09T09:44:56.673590",
     "exception": false,
     "start_time": "2022-03-09T09:44:56.609023",
     "status": "completed"
    },
    "tags": []
   },
   "outputs": [
    {
     "name": "stdout",
     "output_type": "stream",
     "text": [
      "<class 'pandas.core.frame.DataFrame'>\n",
      "RangeIndex: 1470 entries, 0 to 1469\n",
      "Data columns (total 13 columns):\n",
      " #   Column                   Non-Null Count  Dtype \n",
      "---  ------                   --------------  ----- \n",
      " 0   Age                      1470 non-null   int64 \n",
      " 1   Attrition                1470 non-null   object\n",
      " 2   Department               1470 non-null   object\n",
      " 3   DistanceFromHome         1470 non-null   int64 \n",
      " 4   Education                1470 non-null   int64 \n",
      " 5   EducationField           1470 non-null   object\n",
      " 6   EnvironmentSatisfaction  1470 non-null   int64 \n",
      " 7   JobSatisfaction          1470 non-null   int64 \n",
      " 8   MaritalStatus            1470 non-null   object\n",
      " 9   MonthlyIncome            1470 non-null   int64 \n",
      " 10  NumCompaniesWorked       1470 non-null   int64 \n",
      " 11  WorkLifeBalance          1470 non-null   int64 \n",
      " 12  YearsAtCompany           1470 non-null   int64 \n",
      "dtypes: int64(9), object(4)\n",
      "memory usage: 149.4+ KB\n"
     ]
    }
   ],
   "source": [
    "ibm_hr_data.info()"
   ]
  },
  {
   "cell_type": "code",
   "execution_count": 21,
   "id": "a6c36725",
   "metadata": {
    "execution": {
     "iopub.execute_input": "2022-03-09T09:44:56.781715Z",
     "iopub.status.busy": "2022-03-09T09:44:56.780944Z",
     "iopub.status.idle": "2022-03-09T09:44:56.783739Z",
     "shell.execute_reply": "2022-03-09T09:44:56.784300Z",
     "shell.execute_reply.started": "2022-03-09T07:41:44.287679Z"
    },
    "papermill": {
     "duration": 0.059515,
     "end_time": "2022-03-09T09:44:56.784468",
     "exception": false,
     "start_time": "2022-03-09T09:44:56.724953",
     "status": "completed"
    },
    "tags": []
   },
   "outputs": [
    {
     "data": {
      "text/plain": [
       "No     1233\n",
       "Yes     237\n",
       "Name: Attrition, dtype: int64"
      ]
     },
     "execution_count": 21,
     "metadata": {},
     "output_type": "execute_result"
    }
   ],
   "source": [
    "ibm_hr_data['Attrition'].value_counts()"
   ]
  },
  {
   "cell_type": "code",
   "execution_count": 22,
   "id": "e5ef5094",
   "metadata": {
    "execution": {
     "iopub.execute_input": "2022-03-09T09:44:56.947508Z",
     "iopub.status.busy": "2022-03-09T09:44:56.946812Z",
     "iopub.status.idle": "2022-03-09T09:44:56.949676Z",
     "shell.execute_reply": "2022-03-09T09:44:56.949068Z",
     "shell.execute_reply.started": "2022-03-09T07:42:04.348278Z"
    },
    "papermill": {
     "duration": 0.087491,
     "end_time": "2022-03-09T09:44:56.949849",
     "exception": false,
     "start_time": "2022-03-09T09:44:56.862358",
     "status": "completed"
    },
    "tags": []
   },
   "outputs": [],
   "source": [
    "#Replacing the Attrition description with  number representation\n",
    "ibm_hr_data['Attrition'].replace('Yes',1, inplace=True)\n",
    "ibm_hr_data['Attrition'].replace('No',0, inplace=True)"
   ]
  },
  {
   "cell_type": "code",
   "execution_count": 23,
   "id": "70b9acf1",
   "metadata": {
    "execution": {
     "iopub.execute_input": "2022-03-09T09:44:57.063973Z",
     "iopub.status.busy": "2022-03-09T09:44:57.063203Z",
     "iopub.status.idle": "2022-03-09T09:44:57.067963Z",
     "shell.execute_reply": "2022-03-09T09:44:57.067447Z",
     "shell.execute_reply.started": "2022-03-09T07:42:19.803727Z"
    },
    "papermill": {
     "duration": 0.067382,
     "end_time": "2022-03-09T09:44:57.068085",
     "exception": false,
     "start_time": "2022-03-09T09:44:57.000703",
     "status": "completed"
    },
    "tags": []
   },
   "outputs": [
    {
     "data": {
      "text/html": [
       "<div>\n",
       "<style scoped>\n",
       "    .dataframe tbody tr th:only-of-type {\n",
       "        vertical-align: middle;\n",
       "    }\n",
       "\n",
       "    .dataframe tbody tr th {\n",
       "        vertical-align: top;\n",
       "    }\n",
       "\n",
       "    .dataframe thead th {\n",
       "        text-align: right;\n",
       "    }\n",
       "</style>\n",
       "<table border=\"1\" class=\"dataframe\">\n",
       "  <thead>\n",
       "    <tr style=\"text-align: right;\">\n",
       "      <th></th>\n",
       "      <th>Age</th>\n",
       "      <th>Attrition</th>\n",
       "      <th>Department</th>\n",
       "      <th>DistanceFromHome</th>\n",
       "      <th>Education</th>\n",
       "      <th>EducationField</th>\n",
       "      <th>EnvironmentSatisfaction</th>\n",
       "      <th>JobSatisfaction</th>\n",
       "      <th>MaritalStatus</th>\n",
       "      <th>MonthlyIncome</th>\n",
       "      <th>NumCompaniesWorked</th>\n",
       "      <th>WorkLifeBalance</th>\n",
       "      <th>YearsAtCompany</th>\n",
       "    </tr>\n",
       "  </thead>\n",
       "  <tbody>\n",
       "    <tr>\n",
       "      <th>0</th>\n",
       "      <td>41</td>\n",
       "      <td>1</td>\n",
       "      <td>Sales</td>\n",
       "      <td>1</td>\n",
       "      <td>2</td>\n",
       "      <td>Life Sciences</td>\n",
       "      <td>2</td>\n",
       "      <td>4</td>\n",
       "      <td>Single</td>\n",
       "      <td>5993</td>\n",
       "      <td>8</td>\n",
       "      <td>1</td>\n",
       "      <td>6</td>\n",
       "    </tr>\n",
       "    <tr>\n",
       "      <th>1</th>\n",
       "      <td>49</td>\n",
       "      <td>0</td>\n",
       "      <td>Research &amp; Development</td>\n",
       "      <td>8</td>\n",
       "      <td>1</td>\n",
       "      <td>Life Sciences</td>\n",
       "      <td>3</td>\n",
       "      <td>2</td>\n",
       "      <td>Married</td>\n",
       "      <td>5130</td>\n",
       "      <td>1</td>\n",
       "      <td>3</td>\n",
       "      <td>10</td>\n",
       "    </tr>\n",
       "    <tr>\n",
       "      <th>2</th>\n",
       "      <td>37</td>\n",
       "      <td>1</td>\n",
       "      <td>Research &amp; Development</td>\n",
       "      <td>2</td>\n",
       "      <td>2</td>\n",
       "      <td>Other</td>\n",
       "      <td>4</td>\n",
       "      <td>3</td>\n",
       "      <td>Single</td>\n",
       "      <td>2090</td>\n",
       "      <td>6</td>\n",
       "      <td>3</td>\n",
       "      <td>0</td>\n",
       "    </tr>\n",
       "    <tr>\n",
       "      <th>3</th>\n",
       "      <td>33</td>\n",
       "      <td>0</td>\n",
       "      <td>Research &amp; Development</td>\n",
       "      <td>3</td>\n",
       "      <td>4</td>\n",
       "      <td>Life Sciences</td>\n",
       "      <td>4</td>\n",
       "      <td>3</td>\n",
       "      <td>Married</td>\n",
       "      <td>2909</td>\n",
       "      <td>1</td>\n",
       "      <td>3</td>\n",
       "      <td>8</td>\n",
       "    </tr>\n",
       "    <tr>\n",
       "      <th>4</th>\n",
       "      <td>27</td>\n",
       "      <td>0</td>\n",
       "      <td>Research &amp; Development</td>\n",
       "      <td>2</td>\n",
       "      <td>1</td>\n",
       "      <td>Medical</td>\n",
       "      <td>1</td>\n",
       "      <td>2</td>\n",
       "      <td>Married</td>\n",
       "      <td>3468</td>\n",
       "      <td>9</td>\n",
       "      <td>3</td>\n",
       "      <td>2</td>\n",
       "    </tr>\n",
       "  </tbody>\n",
       "</table>\n",
       "</div>"
      ],
      "text/plain": [
       "   Age  Attrition              Department  DistanceFromHome  Education  \\\n",
       "0   41          1                   Sales                 1          2   \n",
       "1   49          0  Research & Development                 8          1   \n",
       "2   37          1  Research & Development                 2          2   \n",
       "3   33          0  Research & Development                 3          4   \n",
       "4   27          0  Research & Development                 2          1   \n",
       "\n",
       "  EducationField  EnvironmentSatisfaction  JobSatisfaction MaritalStatus  \\\n",
       "0  Life Sciences                        2                4        Single   \n",
       "1  Life Sciences                        3                2       Married   \n",
       "2          Other                        4                3        Single   \n",
       "3  Life Sciences                        4                3       Married   \n",
       "4        Medical                        1                2       Married   \n",
       "\n",
       "   MonthlyIncome  NumCompaniesWorked  WorkLifeBalance  YearsAtCompany  \n",
       "0           5993                   8                1               6  \n",
       "1           5130                   1                3              10  \n",
       "2           2090                   6                3               0  \n",
       "3           2909                   1                3               8  \n",
       "4           3468                   9                3               2  "
      ]
     },
     "execution_count": 23,
     "metadata": {},
     "output_type": "execute_result"
    }
   ],
   "source": [
    "ibm_hr_data.head()"
   ]
  },
  {
   "cell_type": "code",
   "execution_count": 24,
   "id": "2f712963",
   "metadata": {
    "execution": {
     "iopub.execute_input": "2022-03-09T09:44:57.181457Z",
     "iopub.status.busy": "2022-03-09T09:44:57.178186Z",
     "iopub.status.idle": "2022-03-09T09:44:57.186665Z",
     "shell.execute_reply": "2022-03-09T09:44:57.186107Z",
     "shell.execute_reply.started": "2022-03-09T07:42:39.342963Z"
    },
    "papermill": {
     "duration": 0.067414,
     "end_time": "2022-03-09T09:44:57.186813",
     "exception": false,
     "start_time": "2022-03-09T09:44:57.119399",
     "status": "completed"
    },
    "tags": []
   },
   "outputs": [
    {
     "data": {
      "text/plain": [
       "0    1\n",
       "1    0\n",
       "2    1\n",
       "3    0\n",
       "4    0\n",
       "Name: Attrition, dtype: int64"
      ]
     },
     "execution_count": 24,
     "metadata": {},
     "output_type": "execute_result"
    }
   ],
   "source": [
    "# building up a logistic regression model\n",
    "X = ibm_hr_data.drop(['Attrition'],axis=1)\n",
    "X.head()\n",
    "Y = ibm_hr_data['Attrition']\n",
    "Y.head()"
   ]
  },
  {
   "cell_type": "code",
   "execution_count": 25,
   "id": "02824e8f",
   "metadata": {
    "execution": {
     "iopub.execute_input": "2022-03-09T09:44:57.303051Z",
     "iopub.status.busy": "2022-03-09T09:44:57.302356Z",
     "iopub.status.idle": "2022-03-09T09:44:57.305606Z",
     "shell.execute_reply": "2022-03-09T09:44:57.305178Z",
     "shell.execute_reply.started": "2022-03-09T07:42:58.165110Z"
    },
    "papermill": {
     "duration": 0.067466,
     "end_time": "2022-03-09T09:44:57.305724",
     "exception": false,
     "start_time": "2022-03-09T09:44:57.238258",
     "status": "completed"
    },
    "tags": []
   },
   "outputs": [],
   "source": [
    "# Replacing the EducationField descriptions with number representation \n",
    "ibm_hr_data['EducationField'].replace('Life Sciences',1, inplace=True)\n",
    "ibm_hr_data['EducationField'].replace('Medical',2, inplace=True)\n",
    "ibm_hr_data['EducationField'].replace('Marketing', 3, inplace=True)\n",
    "ibm_hr_data['EducationField'].replace('Other',4, inplace=True)\n",
    "ibm_hr_data['EducationField'].replace('Technical Degree',5, inplace=True)\n",
    "ibm_hr_data['EducationField'].replace('Human Resources', 6, inplace=True)"
   ]
  },
  {
   "cell_type": "code",
   "execution_count": 26,
   "id": "40474ff7",
   "metadata": {
    "execution": {
     "iopub.execute_input": "2022-03-09T09:44:57.425712Z",
     "iopub.status.busy": "2022-03-09T09:44:57.425065Z",
     "iopub.status.idle": "2022-03-09T09:44:57.429466Z",
     "shell.execute_reply": "2022-03-09T09:44:57.428901Z",
     "shell.execute_reply.started": "2022-03-09T07:43:20.289514Z"
    },
    "papermill": {
     "duration": 0.071221,
     "end_time": "2022-03-09T09:44:57.429593",
     "exception": false,
     "start_time": "2022-03-09T09:44:57.358372",
     "status": "completed"
    },
    "tags": []
   },
   "outputs": [
    {
     "data": {
      "text/html": [
       "<div>\n",
       "<style scoped>\n",
       "    .dataframe tbody tr th:only-of-type {\n",
       "        vertical-align: middle;\n",
       "    }\n",
       "\n",
       "    .dataframe tbody tr th {\n",
       "        vertical-align: top;\n",
       "    }\n",
       "\n",
       "    .dataframe thead th {\n",
       "        text-align: right;\n",
       "    }\n",
       "</style>\n",
       "<table border=\"1\" class=\"dataframe\">\n",
       "  <thead>\n",
       "    <tr style=\"text-align: right;\">\n",
       "      <th></th>\n",
       "      <th>Age</th>\n",
       "      <th>Attrition</th>\n",
       "      <th>Department</th>\n",
       "      <th>DistanceFromHome</th>\n",
       "      <th>Education</th>\n",
       "      <th>EducationField</th>\n",
       "      <th>EnvironmentSatisfaction</th>\n",
       "      <th>JobSatisfaction</th>\n",
       "      <th>MaritalStatus</th>\n",
       "      <th>MonthlyIncome</th>\n",
       "      <th>NumCompaniesWorked</th>\n",
       "      <th>WorkLifeBalance</th>\n",
       "      <th>YearsAtCompany</th>\n",
       "    </tr>\n",
       "  </thead>\n",
       "  <tbody>\n",
       "    <tr>\n",
       "      <th>0</th>\n",
       "      <td>41</td>\n",
       "      <td>1</td>\n",
       "      <td>Sales</td>\n",
       "      <td>1</td>\n",
       "      <td>2</td>\n",
       "      <td>1</td>\n",
       "      <td>2</td>\n",
       "      <td>4</td>\n",
       "      <td>Single</td>\n",
       "      <td>5993</td>\n",
       "      <td>8</td>\n",
       "      <td>1</td>\n",
       "      <td>6</td>\n",
       "    </tr>\n",
       "    <tr>\n",
       "      <th>1</th>\n",
       "      <td>49</td>\n",
       "      <td>0</td>\n",
       "      <td>Research &amp; Development</td>\n",
       "      <td>8</td>\n",
       "      <td>1</td>\n",
       "      <td>1</td>\n",
       "      <td>3</td>\n",
       "      <td>2</td>\n",
       "      <td>Married</td>\n",
       "      <td>5130</td>\n",
       "      <td>1</td>\n",
       "      <td>3</td>\n",
       "      <td>10</td>\n",
       "    </tr>\n",
       "    <tr>\n",
       "      <th>2</th>\n",
       "      <td>37</td>\n",
       "      <td>1</td>\n",
       "      <td>Research &amp; Development</td>\n",
       "      <td>2</td>\n",
       "      <td>2</td>\n",
       "      <td>4</td>\n",
       "      <td>4</td>\n",
       "      <td>3</td>\n",
       "      <td>Single</td>\n",
       "      <td>2090</td>\n",
       "      <td>6</td>\n",
       "      <td>3</td>\n",
       "      <td>0</td>\n",
       "    </tr>\n",
       "    <tr>\n",
       "      <th>3</th>\n",
       "      <td>33</td>\n",
       "      <td>0</td>\n",
       "      <td>Research &amp; Development</td>\n",
       "      <td>3</td>\n",
       "      <td>4</td>\n",
       "      <td>1</td>\n",
       "      <td>4</td>\n",
       "      <td>3</td>\n",
       "      <td>Married</td>\n",
       "      <td>2909</td>\n",
       "      <td>1</td>\n",
       "      <td>3</td>\n",
       "      <td>8</td>\n",
       "    </tr>\n",
       "    <tr>\n",
       "      <th>4</th>\n",
       "      <td>27</td>\n",
       "      <td>0</td>\n",
       "      <td>Research &amp; Development</td>\n",
       "      <td>2</td>\n",
       "      <td>1</td>\n",
       "      <td>2</td>\n",
       "      <td>1</td>\n",
       "      <td>2</td>\n",
       "      <td>Married</td>\n",
       "      <td>3468</td>\n",
       "      <td>9</td>\n",
       "      <td>3</td>\n",
       "      <td>2</td>\n",
       "    </tr>\n",
       "  </tbody>\n",
       "</table>\n",
       "</div>"
      ],
      "text/plain": [
       "   Age  Attrition              Department  DistanceFromHome  Education  \\\n",
       "0   41          1                   Sales                 1          2   \n",
       "1   49          0  Research & Development                 8          1   \n",
       "2   37          1  Research & Development                 2          2   \n",
       "3   33          0  Research & Development                 3          4   \n",
       "4   27          0  Research & Development                 2          1   \n",
       "\n",
       "   EducationField  EnvironmentSatisfaction  JobSatisfaction MaritalStatus  \\\n",
       "0               1                        2                4        Single   \n",
       "1               1                        3                2       Married   \n",
       "2               4                        4                3        Single   \n",
       "3               1                        4                3       Married   \n",
       "4               2                        1                2       Married   \n",
       "\n",
       "   MonthlyIncome  NumCompaniesWorked  WorkLifeBalance  YearsAtCompany  \n",
       "0           5993                   8                1               6  \n",
       "1           5130                   1                3              10  \n",
       "2           2090                   6                3               0  \n",
       "3           2909                   1                3               8  \n",
       "4           3468                   9                3               2  "
      ]
     },
     "execution_count": 26,
     "metadata": {},
     "output_type": "execute_result"
    }
   ],
   "source": [
    "ibm_hr_data.head()"
   ]
  },
  {
   "cell_type": "code",
   "execution_count": 27,
   "id": "f8b317e0",
   "metadata": {
    "execution": {
     "iopub.execute_input": "2022-03-09T09:44:57.541850Z",
     "iopub.status.busy": "2022-03-09T09:44:57.541202Z",
     "iopub.status.idle": "2022-03-09T09:44:57.545668Z",
     "shell.execute_reply": "2022-03-09T09:44:57.545185Z",
     "shell.execute_reply.started": "2022-03-09T07:43:41.939789Z"
    },
    "papermill": {
     "duration": 0.064026,
     "end_time": "2022-03-09T09:44:57.545828",
     "exception": false,
     "start_time": "2022-03-09T09:44:57.481802",
     "status": "completed"
    },
    "tags": []
   },
   "outputs": [
    {
     "data": {
      "text/plain": [
       "1    606\n",
       "2    464\n",
       "3    159\n",
       "5    132\n",
       "4     82\n",
       "6     27\n",
       "Name: EducationField, dtype: int64"
      ]
     },
     "execution_count": 27,
     "metadata": {},
     "output_type": "execute_result"
    }
   ],
   "source": [
    "ibm_hr_data['EducationField'].value_counts()"
   ]
  },
  {
   "cell_type": "code",
   "execution_count": 28,
   "id": "7841ac34",
   "metadata": {
    "execution": {
     "iopub.execute_input": "2022-03-09T09:44:57.657659Z",
     "iopub.status.busy": "2022-03-09T09:44:57.657097Z",
     "iopub.status.idle": "2022-03-09T09:44:57.661321Z",
     "shell.execute_reply": "2022-03-09T09:44:57.660745Z",
     "shell.execute_reply.started": "2022-03-09T07:44:01.060457Z"
    },
    "papermill": {
     "duration": 0.063809,
     "end_time": "2022-03-09T09:44:57.661444",
     "exception": false,
     "start_time": "2022-03-09T09:44:57.597635",
     "status": "completed"
    },
    "tags": []
   },
   "outputs": [
    {
     "data": {
      "text/plain": [
       "Research & Development    961\n",
       "Sales                     446\n",
       "Human Resources            63\n",
       "Name: Department, dtype: int64"
      ]
     },
     "execution_count": 28,
     "metadata": {},
     "output_type": "execute_result"
    }
   ],
   "source": [
    "ibm_hr_data['Department'].value_counts()"
   ]
  },
  {
   "cell_type": "code",
   "execution_count": 29,
   "id": "4d39ca44",
   "metadata": {
    "execution": {
     "iopub.execute_input": "2022-03-09T09:44:57.777186Z",
     "iopub.status.busy": "2022-03-09T09:44:57.776533Z",
     "iopub.status.idle": "2022-03-09T09:44:57.779433Z",
     "shell.execute_reply": "2022-03-09T09:44:57.780325Z",
     "shell.execute_reply.started": "2022-03-09T07:44:29.299444Z"
    },
    "papermill": {
     "duration": 0.065291,
     "end_time": "2022-03-09T09:44:57.780538",
     "exception": false,
     "start_time": "2022-03-09T09:44:57.715247",
     "status": "completed"
    },
    "tags": []
   },
   "outputs": [],
   "source": [
    "# Replacing the EducationField descriptions with number representation\n",
    "ibm_hr_data['Department'].replace('Research & Development',1, inplace=True)\n",
    "ibm_hr_data['Department'].replace('Sales',2, inplace=True)\n",
    "ibm_hr_data['Department'].replace('Human Resources', 3, inplace=True)"
   ]
  },
  {
   "cell_type": "code",
   "execution_count": 30,
   "id": "1a69547b",
   "metadata": {
    "execution": {
     "iopub.execute_input": "2022-03-09T09:44:57.891866Z",
     "iopub.status.busy": "2022-03-09T09:44:57.891289Z",
     "iopub.status.idle": "2022-03-09T09:44:57.894550Z",
     "shell.execute_reply": "2022-03-09T09:44:57.894126Z",
     "shell.execute_reply.started": "2022-03-09T07:44:51.338296Z"
    },
    "papermill": {
     "duration": 0.062127,
     "end_time": "2022-03-09T09:44:57.894664",
     "exception": false,
     "start_time": "2022-03-09T09:44:57.832537",
     "status": "completed"
    },
    "tags": []
   },
   "outputs": [
    {
     "data": {
      "text/plain": [
       "1    961\n",
       "2    446\n",
       "3     63\n",
       "Name: Department, dtype: int64"
      ]
     },
     "execution_count": 30,
     "metadata": {},
     "output_type": "execute_result"
    }
   ],
   "source": [
    "ibm_hr_data['Department'].value_counts()"
   ]
  },
  {
   "cell_type": "code",
   "execution_count": 31,
   "id": "92d0cee7",
   "metadata": {
    "execution": {
     "iopub.execute_input": "2022-03-09T09:44:58.007137Z",
     "iopub.status.busy": "2022-03-09T09:44:58.006510Z",
     "iopub.status.idle": "2022-03-09T09:44:58.008730Z",
     "shell.execute_reply": "2022-03-09T09:44:58.009166Z",
     "shell.execute_reply.started": "2022-03-09T07:46:30.797990Z"
    },
    "papermill": {
     "duration": 0.061929,
     "end_time": "2022-03-09T09:44:58.009314",
     "exception": false,
     "start_time": "2022-03-09T09:44:57.947385",
     "status": "completed"
    },
    "tags": []
   },
   "outputs": [
    {
     "data": {
      "text/plain": [
       "Married     673\n",
       "Single      470\n",
       "Divorced    327\n",
       "Name: MaritalStatus, dtype: int64"
      ]
     },
     "execution_count": 31,
     "metadata": {},
     "output_type": "execute_result"
    }
   ],
   "source": [
    "ibm_hr_data['MaritalStatus'].value_counts()"
   ]
  },
  {
   "cell_type": "code",
   "execution_count": 32,
   "id": "93d34a74",
   "metadata": {
    "execution": {
     "iopub.execute_input": "2022-03-09T09:44:58.126327Z",
     "iopub.status.busy": "2022-03-09T09:44:58.125713Z",
     "iopub.status.idle": "2022-03-09T09:44:58.128296Z",
     "shell.execute_reply": "2022-03-09T09:44:58.127736Z",
     "shell.execute_reply.started": "2022-03-09T07:46:51.827505Z"
    },
    "papermill": {
     "duration": 0.064869,
     "end_time": "2022-03-09T09:44:58.128421",
     "exception": false,
     "start_time": "2022-03-09T09:44:58.063552",
     "status": "completed"
    },
    "tags": []
   },
   "outputs": [],
   "source": [
    "ibm_hr_data['MaritalStatus'].replace('Married',1, inplace=True)\n",
    "ibm_hr_data['MaritalStatus'].replace('Single',2, inplace=True)\n",
    "ibm_hr_data['MaritalStatus'].replace('Divorced',3, inplace=True)"
   ]
  },
  {
   "cell_type": "code",
   "execution_count": 33,
   "id": "cc2c6fef",
   "metadata": {
    "execution": {
     "iopub.execute_input": "2022-03-09T09:44:58.241026Z",
     "iopub.status.busy": "2022-03-09T09:44:58.240386Z",
     "iopub.status.idle": "2022-03-09T09:44:58.246168Z",
     "shell.execute_reply": "2022-03-09T09:44:58.245719Z",
     "shell.execute_reply.started": "2022-03-09T07:47:09.087849Z"
    },
    "papermill": {
     "duration": 0.06403,
     "end_time": "2022-03-09T09:44:58.246287",
     "exception": false,
     "start_time": "2022-03-09T09:44:58.182257",
     "status": "completed"
    },
    "tags": []
   },
   "outputs": [
    {
     "data": {
      "text/plain": [
       "1    673\n",
       "2    470\n",
       "3    327\n",
       "Name: MaritalStatus, dtype: int64"
      ]
     },
     "execution_count": 33,
     "metadata": {},
     "output_type": "execute_result"
    }
   ],
   "source": [
    "ibm_hr_data['MaritalStatus'].value_counts()"
   ]
  },
  {
   "cell_type": "code",
   "execution_count": 34,
   "id": "1ae50f7f",
   "metadata": {
    "execution": {
     "iopub.execute_input": "2022-03-09T09:44:58.364941Z",
     "iopub.status.busy": "2022-03-09T09:44:58.364357Z",
     "iopub.status.idle": "2022-03-09T09:44:58.367942Z",
     "shell.execute_reply": "2022-03-09T09:44:58.367313Z",
     "shell.execute_reply.started": "2022-03-09T07:47:22.810752Z"
    },
    "papermill": {
     "duration": 0.067495,
     "end_time": "2022-03-09T09:44:58.368084",
     "exception": false,
     "start_time": "2022-03-09T09:44:58.300589",
     "status": "completed"
    },
    "tags": []
   },
   "outputs": [
    {
     "data": {
      "text/plain": [
       "Age                        int64\n",
       "Attrition                  int64\n",
       "Department                 int64\n",
       "DistanceFromHome           int64\n",
       "Education                  int64\n",
       "EducationField             int64\n",
       "EnvironmentSatisfaction    int64\n",
       "JobSatisfaction            int64\n",
       "MaritalStatus              int64\n",
       "MonthlyIncome              int64\n",
       "NumCompaniesWorked         int64\n",
       "WorkLifeBalance            int64\n",
       "YearsAtCompany             int64\n",
       "dtype: object"
      ]
     },
     "execution_count": 34,
     "metadata": {},
     "output_type": "execute_result"
    }
   ],
   "source": [
    "x=ibm_hr_data.select_dtypes(include=['int64'])\n",
    "x.dtypes"
   ]
  },
  {
   "cell_type": "code",
   "execution_count": 35,
   "id": "62876fab",
   "metadata": {
    "execution": {
     "iopub.execute_input": "2022-03-09T09:44:58.541606Z",
     "iopub.status.busy": "2022-03-09T09:44:58.538216Z",
     "iopub.status.idle": "2022-03-09T09:44:58.544490Z",
     "shell.execute_reply": "2022-03-09T09:44:58.545157Z",
     "shell.execute_reply.started": "2022-03-09T07:47:42.308402Z"
    },
    "papermill": {
     "duration": 0.093579,
     "end_time": "2022-03-09T09:44:58.545323",
     "exception": false,
     "start_time": "2022-03-09T09:44:58.451744",
     "status": "completed"
    },
    "tags": []
   },
   "outputs": [
    {
     "data": {
      "text/plain": [
       "Index(['Age', 'Attrition', 'Department', 'DistanceFromHome', 'Education',\n",
       "       'EducationField', 'EnvironmentSatisfaction', 'JobSatisfaction',\n",
       "       'MaritalStatus', 'MonthlyIncome', 'NumCompaniesWorked',\n",
       "       'WorkLifeBalance', 'YearsAtCompany'],\n",
       "      dtype='object')"
      ]
     },
     "execution_count": 35,
     "metadata": {},
     "output_type": "execute_result"
    }
   ],
   "source": [
    "x.columns"
   ]
  },
  {
   "cell_type": "code",
   "execution_count": 36,
   "id": "8a4a87bb",
   "metadata": {
    "execution": {
     "iopub.execute_input": "2022-03-09T09:44:58.717809Z",
     "iopub.status.busy": "2022-03-09T09:44:58.717017Z",
     "iopub.status.idle": "2022-03-09T09:44:58.720466Z",
     "shell.execute_reply": "2022-03-09T09:44:58.721103Z",
     "shell.execute_reply.started": "2022-03-09T07:47:57.207986Z"
    },
    "papermill": {
     "duration": 0.092128,
     "end_time": "2022-03-09T09:44:58.721301",
     "exception": false,
     "start_time": "2022-03-09T09:44:58.629173",
     "status": "completed"
    },
    "tags": []
   },
   "outputs": [],
   "source": [
    "y=ibm_hr_data['Attrition']"
   ]
  },
  {
   "cell_type": "code",
   "execution_count": 37,
   "id": "67bed370",
   "metadata": {
    "execution": {
     "iopub.execute_input": "2022-03-09T09:44:58.896494Z",
     "iopub.status.busy": "2022-03-09T09:44:58.895616Z",
     "iopub.status.idle": "2022-03-09T09:44:58.899290Z",
     "shell.execute_reply": "2022-03-09T09:44:58.898668Z",
     "shell.execute_reply.started": "2022-03-09T07:48:12.954069Z"
    },
    "papermill": {
     "duration": 0.093345,
     "end_time": "2022-03-09T09:44:58.899438",
     "exception": false,
     "start_time": "2022-03-09T09:44:58.806093",
     "status": "completed"
    },
    "tags": []
   },
   "outputs": [
    {
     "data": {
      "text/plain": [
       "0    1\n",
       "1    0\n",
       "2    1\n",
       "3    0\n",
       "4    0\n",
       "Name: Attrition, dtype: int64"
      ]
     },
     "execution_count": 37,
     "metadata": {},
     "output_type": "execute_result"
    }
   ],
   "source": [
    "y.head()"
   ]
  },
  {
   "cell_type": "code",
   "execution_count": 38,
   "id": "b9fa0e12",
   "metadata": {
    "execution": {
     "iopub.execute_input": "2022-03-09T09:44:59.073763Z",
     "iopub.status.busy": "2022-03-09T09:44:59.072930Z",
     "iopub.status.idle": "2022-03-09T09:44:59.089465Z",
     "shell.execute_reply": "2022-03-09T09:44:59.088997Z",
     "shell.execute_reply.started": "2022-03-09T08:03:07.110704Z"
    },
    "papermill": {
     "duration": 0.104762,
     "end_time": "2022-03-09T09:44:59.089587",
     "exception": false,
     "start_time": "2022-03-09T09:44:58.984825",
     "status": "completed"
    },
    "tags": []
   },
   "outputs": [
    {
     "name": "stdout",
     "output_type": "stream",
     "text": [
      "Index(['Intercept', 'Age', 'Department', 'DistanceFromHome', 'Education',\n",
      "       'EducationField', 'YearsAtCompany'],\n",
      "      dtype='object')\n"
     ]
    }
   ],
   "source": [
    "y, x = dmatrices('Attrition ~ Age + Department + \\\n",
    "                  DistanceFromHome + Education + EducationField + YearsAtCompany',\n",
    "                  ibm_hr_data, return_type=\"dataframe\")\n",
    "print (x.columns)"
   ]
  },
  {
   "cell_type": "code",
   "execution_count": 39,
   "id": "64efb658",
   "metadata": {
    "execution": {
     "iopub.execute_input": "2022-03-09T09:44:59.206342Z",
     "iopub.status.busy": "2022-03-09T09:44:59.205593Z",
     "iopub.status.idle": "2022-03-09T09:44:59.207746Z",
     "shell.execute_reply": "2022-03-09T09:44:59.208321Z",
     "shell.execute_reply.started": "2022-03-09T08:03:11.230123Z"
    },
    "papermill": {
     "duration": 0.062662,
     "end_time": "2022-03-09T09:44:59.208476",
     "exception": false,
     "start_time": "2022-03-09T09:44:59.145814",
     "status": "completed"
    },
    "tags": []
   },
   "outputs": [],
   "source": [
    "y=np.ravel(y)"
   ]
  },
  {
   "cell_type": "code",
   "execution_count": 40,
   "id": "abd804ad",
   "metadata": {
    "execution": {
     "iopub.execute_input": "2022-03-09T09:44:59.322640Z",
     "iopub.status.busy": "2022-03-09T09:44:59.322029Z",
     "iopub.status.idle": "2022-03-09T09:45:00.518855Z",
     "shell.execute_reply": "2022-03-09T09:45:00.518121Z",
     "shell.execute_reply.started": "2022-03-09T08:03:18.558188Z"
    },
    "papermill": {
     "duration": 1.255044,
     "end_time": "2022-03-09T09:45:00.519049",
     "exception": false,
     "start_time": "2022-03-09T09:44:59.264005",
     "status": "completed"
    },
    "tags": []
   },
   "outputs": [
    {
     "data": {
      "text/plain": [
       "0.8408163265306122"
      ]
     },
     "execution_count": 40,
     "metadata": {},
     "output_type": "execute_result"
    }
   ],
   "source": [
    "from sklearn.linear_model import LogisticRegression\n",
    "\n",
    "model = LogisticRegression()\n",
    "model = model.fit(x, y)\n",
    "\n",
    "# check the accuracy on the training set\n",
    "model.score(x, y)"
   ]
  },
  {
   "cell_type": "code",
   "execution_count": 41,
   "id": "65e01122",
   "metadata": {
    "execution": {
     "iopub.execute_input": "2022-03-09T09:45:00.720760Z",
     "iopub.status.busy": "2022-03-09T09:45:00.719872Z",
     "iopub.status.idle": "2022-03-09T09:45:00.723140Z",
     "shell.execute_reply": "2022-03-09T09:45:00.723684Z",
     "shell.execute_reply.started": "2022-03-09T07:49:26.021690Z"
    },
    "papermill": {
     "duration": 0.094663,
     "end_time": "2022-03-09T09:45:00.723884",
     "exception": false,
     "start_time": "2022-03-09T09:45:00.629221",
     "status": "completed"
    },
    "tags": []
   },
   "outputs": [
    {
     "data": {
      "text/plain": [
       "0.16122448979591836"
      ]
     },
     "execution_count": 41,
     "metadata": {},
     "output_type": "execute_result"
    }
   ],
   "source": [
    "y.mean()"
   ]
  },
  {
   "cell_type": "code",
   "execution_count": 42,
   "id": "b7f77414",
   "metadata": {
    "execution": {
     "iopub.execute_input": "2022-03-09T09:45:00.900725Z",
     "iopub.status.busy": "2022-03-09T09:45:00.899871Z",
     "iopub.status.idle": "2022-03-09T09:45:00.943015Z",
     "shell.execute_reply": "2022-03-09T09:45:00.942214Z",
     "shell.execute_reply.started": "2022-03-09T07:49:42.969083Z"
    },
    "papermill": {
     "duration": 0.13316,
     "end_time": "2022-03-09T09:45:00.943186",
     "exception": false,
     "start_time": "2022-03-09T09:45:00.810026",
     "status": "completed"
    },
    "tags": []
   },
   "outputs": [
    {
     "data": {
      "text/plain": [
       "LogisticRegression()"
      ]
     },
     "execution_count": 42,
     "metadata": {},
     "output_type": "execute_result"
    }
   ],
   "source": [
    "import sklearn\n",
    "X_train,X_test,y_train,y_test=sklearn.model_selection.train_test_split(x,y, test_size=0.3, random_state=0)\n",
    "model2=LogisticRegression()\n",
    "model2.fit(X_train, y_train)"
   ]
  },
  {
   "cell_type": "code",
   "execution_count": 43,
   "id": "2c0e89c3",
   "metadata": {
    "execution": {
     "iopub.execute_input": "2022-03-09T09:45:01.129680Z",
     "iopub.status.busy": "2022-03-09T09:45:01.128928Z",
     "iopub.status.idle": "2022-03-09T09:45:01.132933Z",
     "shell.execute_reply": "2022-03-09T09:45:01.132252Z",
     "shell.execute_reply.started": "2022-03-09T07:51:17.331733Z"
    },
    "papermill": {
     "duration": 0.103176,
     "end_time": "2022-03-09T09:45:01.133077",
     "exception": false,
     "start_time": "2022-03-09T09:45:01.029901",
     "status": "completed"
    },
    "tags": []
   },
   "outputs": [
    {
     "name": "stdout",
     "output_type": "stream",
     "text": [
      "[0. 0. 0. 0. 0. 0. 0. 0. 0. 0. 0. 0. 0. 0. 0. 0. 0. 0. 0. 0. 0. 0. 0. 0.\n",
      " 0. 0. 0. 0. 0. 0. 0. 0. 0. 0. 0. 0. 0. 0. 0. 0. 0. 0. 0. 0. 0. 0. 0. 0.\n",
      " 0. 0. 0. 0. 0. 0. 0. 0. 0. 0. 0. 0. 0. 0. 0. 0. 0. 0. 0. 0. 0. 0. 0. 0.\n",
      " 0. 0. 0. 0. 0. 0. 0. 0. 0. 0. 0. 0. 0. 0. 0. 0. 0. 0. 0. 0. 0. 0. 0. 0.\n",
      " 0. 0. 0. 0. 0. 0. 0. 0. 0. 0. 0. 0. 0. 0. 0. 0. 0. 0. 0. 0. 0. 0. 0. 0.\n",
      " 0. 0. 0. 0. 0. 0. 0. 0. 0. 0. 0. 0. 0. 0. 0. 0. 0. 0. 0. 0. 0. 0. 0. 0.\n",
      " 0. 0. 0. 0. 0. 0. 0. 0. 0. 0. 0. 0. 0. 0. 0. 0. 0. 0. 0. 0. 0. 0. 0. 0.\n",
      " 0. 0. 0. 0. 0. 0. 0. 0. 0. 0. 0. 0. 0. 0. 0. 0. 0. 0. 0. 0. 0. 0. 0. 0.\n",
      " 0. 0. 0. 0. 0. 0. 0. 0. 0. 0. 0. 0. 0. 0. 0. 0. 0. 0. 0. 0. 0. 0. 0. 0.\n",
      " 0. 0. 0. 0. 0. 0. 0. 0. 0. 0. 0. 0. 0. 0. 0. 0. 0. 0. 0. 0. 0. 0. 0. 0.\n",
      " 0. 0. 0. 0. 0. 0. 0. 0. 0. 0. 0. 0. 0. 0. 0. 0. 0. 0. 0. 0. 0. 0. 0. 0.\n",
      " 0. 0. 0. 0. 0. 0. 0. 0. 0. 0. 0. 0. 0. 0. 0. 0. 0. 0. 0. 0. 0. 0. 0. 0.\n",
      " 0. 0. 0. 0. 0. 0. 0. 0. 0. 0. 0. 0. 0. 0. 0. 0. 0. 0. 0. 0. 0. 0. 0. 0.\n",
      " 0. 0. 0. 0. 0. 0. 0. 0. 1. 0. 0. 0. 0. 0. 0. 0. 0. 0. 0. 0. 0. 0. 0. 0.\n",
      " 0. 0. 0. 0. 0. 0. 0. 0. 0. 0. 0. 0. 0. 0. 0. 0. 0. 0. 0. 0. 0. 0. 0. 0.\n",
      " 0. 0. 0. 0. 0. 0. 0. 0. 0. 0. 0. 0. 0. 0. 0. 0. 0. 0. 0. 0. 0. 0. 0. 0.\n",
      " 0. 0. 0. 0. 0. 0. 0. 0. 0. 0. 0. 0. 0. 0. 0. 0. 0. 0. 0. 0. 0. 0. 0. 0.\n",
      " 0. 0. 0. 0. 0. 0. 0. 0. 0. 0. 0. 0. 0. 0. 0. 0. 0. 0. 0. 0. 0. 0. 0. 0.\n",
      " 0. 0. 0. 0. 0. 0. 0. 0. 0.]\n"
     ]
    }
   ],
   "source": [
    "#predicting the test model\n",
    "predicted= model2.predict(X_test)\n",
    "print (predicted)"
   ]
  },
  {
   "cell_type": "code",
   "execution_count": 44,
   "id": "d60370ae",
   "metadata": {
    "execution": {
     "iopub.execute_input": "2022-03-09T09:45:01.315149Z",
     "iopub.status.busy": "2022-03-09T09:45:01.314422Z",
     "iopub.status.idle": "2022-03-09T09:45:01.327165Z",
     "shell.execute_reply": "2022-03-09T09:45:01.327905Z",
     "shell.execute_reply.started": "2022-03-09T07:58:20.940493Z"
    },
    "papermill": {
     "duration": 0.108688,
     "end_time": "2022-03-09T09:45:01.328130",
     "exception": false,
     "start_time": "2022-03-09T09:45:01.219442",
     "status": "completed"
    },
    "tags": []
   },
   "outputs": [
    {
     "name": "stdout",
     "output_type": "stream",
     "text": [
      "[[0.86179629 0.13820371]\n",
      " [0.80754595 0.19245405]\n",
      " [0.74123953 0.25876047]\n",
      " [0.83441331 0.16558669]\n",
      " [0.73499944 0.26500056]\n",
      " [0.7909775  0.2090225 ]\n",
      " [0.85615202 0.14384798]\n",
      " [0.85699674 0.14300326]\n",
      " [0.96699053 0.03300947]\n",
      " [0.93685203 0.06314797]\n",
      " [0.95099268 0.04900732]\n",
      " [0.83101544 0.16898456]\n",
      " [0.86296552 0.13703448]\n",
      " [0.86581192 0.13418808]\n",
      " [0.88750595 0.11249405]\n",
      " [0.88892618 0.11107382]\n",
      " [0.88569719 0.11430281]\n",
      " [0.78516588 0.21483412]\n",
      " [0.79794491 0.20205509]\n",
      " [0.88511296 0.11488704]\n",
      " [0.7065161  0.2934839 ]\n",
      " [0.94676686 0.05323314]\n",
      " [0.86736256 0.13263744]\n",
      " [0.84276457 0.15723543]\n",
      " [0.60336877 0.39663123]\n",
      " [0.81129201 0.18870799]\n",
      " [0.91813724 0.08186276]\n",
      " [0.93285519 0.06714481]\n",
      " [0.68230779 0.31769221]\n",
      " [0.87027131 0.12972869]\n",
      " [0.87266382 0.12733618]\n",
      " [0.76968745 0.23031255]\n",
      " [0.8643576  0.1356424 ]\n",
      " [0.95758874 0.04241126]\n",
      " [0.84461482 0.15538518]\n",
      " [0.86719352 0.13280648]\n",
      " [0.90465972 0.09534028]\n",
      " [0.68936434 0.31063566]\n",
      " [0.90703612 0.09296388]\n",
      " [0.80663482 0.19336518]\n",
      " [0.91515717 0.08484283]\n",
      " [0.82351284 0.17648716]\n",
      " [0.9371151  0.0628849 ]\n",
      " [0.93411323 0.06588677]\n",
      " [0.8944765  0.1055235 ]\n",
      " [0.85317746 0.14682254]\n",
      " [0.78922388 0.21077612]\n",
      " [0.84879886 0.15120114]\n",
      " [0.66402477 0.33597523]\n",
      " [0.76252307 0.23747693]\n",
      " [0.92851104 0.07148896]\n",
      " [0.78953699 0.21046301]\n",
      " [0.86166599 0.13833401]\n",
      " [0.85837893 0.14162107]\n",
      " [0.87217672 0.12782328]\n",
      " [0.78950903 0.21049097]\n",
      " [0.87690789 0.12309211]\n",
      " [0.84165441 0.15834559]\n",
      " [0.72847174 0.27152826]\n",
      " [0.83181416 0.16818584]\n",
      " [0.90095039 0.09904961]\n",
      " [0.71077346 0.28922654]\n",
      " [0.92823016 0.07176984]\n",
      " [0.84375685 0.15624315]\n",
      " [0.79544113 0.20455887]\n",
      " [0.86826151 0.13173849]\n",
      " [0.91679449 0.08320551]\n",
      " [0.84763055 0.15236945]\n",
      " [0.89253706 0.10746294]\n",
      " [0.62872154 0.37127846]\n",
      " [0.93875384 0.06124616]\n",
      " [0.72620344 0.27379656]\n",
      " [0.85652973 0.14347027]\n",
      " [0.84226021 0.15773979]\n",
      " [0.77436405 0.22563595]\n",
      " [0.7189956  0.2810044 ]\n",
      " [0.9358738  0.0641262 ]\n",
      " [0.95710064 0.04289936]\n",
      " [0.79185854 0.20814146]\n",
      " [0.89370435 0.10629565]\n",
      " [0.91382033 0.08617967]\n",
      " [0.79354592 0.20645408]\n",
      " [0.77934031 0.22065969]\n",
      " [0.79639011 0.20360989]\n",
      " [0.83800491 0.16199509]\n",
      " [0.71395684 0.28604316]\n",
      " [0.97772711 0.02227289]\n",
      " [0.94645966 0.05354034]\n",
      " [0.88617621 0.11382379]\n",
      " [0.79620161 0.20379839]\n",
      " [0.6186386  0.3813614 ]\n",
      " [0.81866468 0.18133532]\n",
      " [0.74504146 0.25495854]\n",
      " [0.86779494 0.13220506]\n",
      " [0.87071138 0.12928862]\n",
      " [0.81717477 0.18282523]\n",
      " [0.71840763 0.28159237]\n",
      " [0.59825929 0.40174071]\n",
      " [0.83951543 0.16048457]\n",
      " [0.88351322 0.11648678]\n",
      " [0.74352599 0.25647401]\n",
      " [0.76631609 0.23368391]\n",
      " [0.98033033 0.01966967]\n",
      " [0.91857462 0.08142538]\n",
      " [0.77432841 0.22567159]\n",
      " [0.92514809 0.07485191]\n",
      " [0.88123383 0.11876617]\n",
      " [0.74587197 0.25412803]\n",
      " [0.90478359 0.09521641]\n",
      " [0.78685542 0.21314458]\n",
      " [0.8114777  0.1885223 ]\n",
      " [0.9347217  0.0652783 ]\n",
      " [0.93836497 0.06163503]\n",
      " [0.79411746 0.20588254]\n",
      " [0.81372906 0.18627094]\n",
      " [0.91610916 0.08389084]\n",
      " [0.90428339 0.09571661]\n",
      " [0.84669428 0.15330572]\n",
      " [0.95384544 0.04615456]\n",
      " [0.91283688 0.08716312]\n",
      " [0.85919596 0.14080404]\n",
      " [0.85902503 0.14097497]\n",
      " [0.8751952  0.1248048 ]\n",
      " [0.76114677 0.23885323]\n",
      " [0.92217681 0.07782319]\n",
      " [0.96859405 0.03140595]\n",
      " [0.94398211 0.05601789]\n",
      " [0.81780298 0.18219702]\n",
      " [0.880587   0.119413  ]\n",
      " [0.77894279 0.22105721]\n",
      " [0.9712446  0.0287554 ]\n",
      " [0.8880766  0.1119234 ]\n",
      " [0.78715259 0.21284741]\n",
      " [0.82001485 0.17998515]\n",
      " [0.94934537 0.05065463]\n",
      " [0.95888928 0.04111072]\n",
      " [0.73559241 0.26440759]\n",
      " [0.93416988 0.06583012]\n",
      " [0.73750655 0.26249345]\n",
      " [0.82136758 0.17863242]\n",
      " [0.82171199 0.17828801]\n",
      " [0.89896702 0.10103298]\n",
      " [0.78745758 0.21254242]\n",
      " [0.89825343 0.10174657]\n",
      " [0.91433812 0.08566188]\n",
      " [0.92724743 0.07275257]\n",
      " [0.96594961 0.03405039]\n",
      " [0.94417357 0.05582643]\n",
      " [0.93073077 0.06926923]\n",
      " [0.66320605 0.33679395]\n",
      " [0.84168655 0.15831345]\n",
      " [0.8263682  0.1736318 ]\n",
      " [0.80616642 0.19383358]\n",
      " [0.96157629 0.03842371]\n",
      " [0.93515158 0.06484842]\n",
      " [0.94778617 0.05221383]\n",
      " [0.97337821 0.02662179]\n",
      " [0.79297069 0.20702931]\n",
      " [0.87770191 0.12229809]\n",
      " [0.86103662 0.13896338]\n",
      " [0.95185475 0.04814525]\n",
      " [0.93131494 0.06868506]\n",
      " [0.75685368 0.24314632]\n",
      " [0.74997812 0.25002188]\n",
      " [0.95527861 0.04472139]\n",
      " [0.86950715 0.13049285]\n",
      " [0.81376773 0.18623227]\n",
      " [0.76990618 0.23009382]\n",
      " [0.80077918 0.19922082]\n",
      " [0.92801116 0.07198884]\n",
      " [0.90949241 0.09050759]\n",
      " [0.9455762  0.0544238 ]\n",
      " [0.9333046  0.0666954 ]\n",
      " [0.69145931 0.30854069]\n",
      " [0.93056874 0.06943126]\n",
      " [0.74525441 0.25474559]\n",
      " [0.78594351 0.21405649]\n",
      " [0.93308596 0.06691404]\n",
      " [0.80878288 0.19121712]\n",
      " [0.85096456 0.14903544]\n",
      " [0.66956296 0.33043704]\n",
      " [0.90338378 0.09661622]\n",
      " [0.91158926 0.08841074]\n",
      " [0.87300498 0.12699502]\n",
      " [0.9293905  0.0706095 ]\n",
      " [0.66661749 0.33338251]\n",
      " [0.89098509 0.10901491]\n",
      " [0.86216711 0.13783289]\n",
      " [0.78838554 0.21161446]\n",
      " [0.53099656 0.46900344]\n",
      " [0.73344338 0.26655662]\n",
      " [0.7105399  0.2894601 ]\n",
      " [0.85530488 0.14469512]\n",
      " [0.86960598 0.13039402]\n",
      " [0.75470009 0.24529991]\n",
      " [0.89823508 0.10176492]\n",
      " [0.79247848 0.20752152]\n",
      " [0.9064313  0.0935687 ]\n",
      " [0.77650779 0.22349221]\n",
      " [0.88387786 0.11612214]\n",
      " [0.85404311 0.14595689]\n",
      " [0.81899373 0.18100627]\n",
      " [0.74448534 0.25551466]\n",
      " [0.86259436 0.13740564]\n",
      " [0.77822628 0.22177372]\n",
      " [0.7692833  0.2307167 ]\n",
      " [0.79679233 0.20320767]\n",
      " [0.92096589 0.07903411]\n",
      " [0.7457378  0.2542622 ]\n",
      " [0.87499222 0.12500778]\n",
      " [0.85503287 0.14496713]\n",
      " [0.77292169 0.22707831]\n",
      " [0.87227275 0.12772725]\n",
      " [0.67395375 0.32604625]\n",
      " [0.93621658 0.06378342]\n",
      " [0.82479478 0.17520522]\n",
      " [0.95146042 0.04853958]\n",
      " [0.83462453 0.16537547]\n",
      " [0.81106472 0.18893528]\n",
      " [0.80828264 0.19171736]\n",
      " [0.87664148 0.12335852]\n",
      " [0.66787006 0.33212994]\n",
      " [0.59616865 0.40383135]\n",
      " [0.98979361 0.01020639]\n",
      " [0.70634411 0.29365589]\n",
      " [0.91633081 0.08366919]\n",
      " [0.92133469 0.07866531]\n",
      " [0.71383912 0.28616088]\n",
      " [0.62453978 0.37546022]\n",
      " [0.76440583 0.23559417]\n",
      " [0.95401647 0.04598353]\n",
      " [0.88186721 0.11813279]\n",
      " [0.86019896 0.13980104]\n",
      " [0.92117376 0.07882624]\n",
      " [0.88019164 0.11980836]\n",
      " [0.80451441 0.19548559]\n",
      " [0.80585187 0.19414813]\n",
      " [0.91345485 0.08654515]\n",
      " [0.72101817 0.27898183]\n",
      " [0.94507997 0.05492003]\n",
      " [0.909069   0.090931  ]\n",
      " [0.73381761 0.26618239]\n",
      " [0.98109182 0.01890818]\n",
      " [0.85490452 0.14509548]\n",
      " [0.89817063 0.10182937]\n",
      " [0.82436994 0.17563006]\n",
      " [0.83387094 0.16612906]\n",
      " [0.88136637 0.11863363]\n",
      " [0.88031308 0.11968692]\n",
      " [0.87560622 0.12439378]\n",
      " [0.81617198 0.18382802]\n",
      " [0.88028843 0.11971157]\n",
      " [0.61530861 0.38469139]\n",
      " [0.88826151 0.11173849]\n",
      " [0.89692806 0.10307194]\n",
      " [0.85328926 0.14671074]\n",
      " [0.98297038 0.01702962]\n",
      " [0.77341249 0.22658751]\n",
      " [0.62184901 0.37815099]\n",
      " [0.82739137 0.17260863]\n",
      " [0.84083341 0.15916659]\n",
      " [0.84808614 0.15191386]\n",
      " [0.84937025 0.15062975]\n",
      " [0.75541011 0.24458989]\n",
      " [0.8618886  0.1381114 ]\n",
      " [0.90684683 0.09315317]\n",
      " [0.84663278 0.15336722]\n",
      " [0.81290911 0.18709089]\n",
      " [0.74053599 0.25946401]\n",
      " [0.87035275 0.12964725]\n",
      " [0.83938098 0.16061902]\n",
      " [0.86267952 0.13732048]\n",
      " [0.66362922 0.33637078]\n",
      " [0.90671715 0.09328285]\n",
      " [0.87056288 0.12943712]\n",
      " [0.92580785 0.07419215]\n",
      " [0.84386863 0.15613137]\n",
      " [0.89878142 0.10121858]\n",
      " [0.91239489 0.08760511]\n",
      " [0.79867641 0.20132359]\n",
      " [0.64052606 0.35947394]\n",
      " [0.84683946 0.15316054]\n",
      " [0.75503208 0.24496792]\n",
      " [0.85264547 0.14735453]\n",
      " [0.99251431 0.00748569]\n",
      " [0.86138211 0.13861789]\n",
      " [0.88140136 0.11859864]\n",
      " [0.82757088 0.17242912]\n",
      " [0.93027069 0.06972931]\n",
      " [0.87307445 0.12692555]\n",
      " [0.88802394 0.11197606]\n",
      " [0.8375333  0.1624667 ]\n",
      " [0.86481032 0.13518968]\n",
      " [0.86515545 0.13484455]\n",
      " [0.89754787 0.10245213]\n",
      " [0.78409074 0.21590926]\n",
      " [0.79165117 0.20834883]\n",
      " [0.88388127 0.11611873]\n",
      " [0.65418974 0.34581026]\n",
      " [0.94059372 0.05940628]\n",
      " [0.89913433 0.10086567]\n",
      " [0.72525631 0.27474369]\n",
      " [0.69085539 0.30914461]\n",
      " [0.87591629 0.12408371]\n",
      " [0.86562241 0.13437759]\n",
      " [0.97508873 0.02491127]\n",
      " [0.86265124 0.13734876]\n",
      " [0.54036104 0.45963896]\n",
      " [0.91302267 0.08697733]\n",
      " [0.74609602 0.25390398]\n",
      " [0.86758148 0.13241852]\n",
      " [0.88852758 0.11147242]\n",
      " [0.87911717 0.12088283]\n",
      " [0.85664966 0.14335034]\n",
      " [0.77281969 0.22718031]\n",
      " [0.80713974 0.19286026]\n",
      " [0.85285508 0.14714492]\n",
      " [0.77595542 0.22404458]\n",
      " [0.70409834 0.29590166]\n",
      " [0.88971657 0.11028343]\n",
      " [0.48963135 0.51036865]\n",
      " [0.92370643 0.07629357]\n",
      " [0.75572319 0.24427681]\n",
      " [0.6778889  0.3221111 ]\n",
      " [0.91301003 0.08698997]\n",
      " [0.94029211 0.05970789]\n",
      " [0.88009782 0.11990218]\n",
      " [0.8859116  0.1140884 ]\n",
      " [0.9565682  0.0434318 ]\n",
      " [0.89909419 0.10090581]\n",
      " [0.94784643 0.05215357]\n",
      " [0.83255781 0.16744219]\n",
      " [0.87822136 0.12177864]\n",
      " [0.81945807 0.18054193]\n",
      " [0.81668791 0.18331209]\n",
      " [0.95036163 0.04963837]\n",
      " [0.86940138 0.13059862]\n",
      " [0.90541592 0.09458408]\n",
      " [0.83661185 0.16338815]\n",
      " [0.84583656 0.15416344]\n",
      " [0.79307982 0.20692018]\n",
      " [0.81808127 0.18191873]\n",
      " [0.81598418 0.18401582]\n",
      " [0.83677564 0.16322436]\n",
      " [0.91443029 0.08556971]\n",
      " [0.91533086 0.08466914]\n",
      " [0.68503459 0.31496541]\n",
      " [0.99073756 0.00926244]\n",
      " [0.76795019 0.23204981]\n",
      " [0.79871935 0.20128065]\n",
      " [0.73176833 0.26823167]\n",
      " [0.67465216 0.32534784]\n",
      " [0.7971247  0.2028753 ]\n",
      " [0.84935621 0.15064379]\n",
      " [0.86467086 0.13532914]\n",
      " [0.85844149 0.14155851]\n",
      " [0.8453326  0.1546674 ]\n",
      " [0.83038797 0.16961203]\n",
      " [0.92192747 0.07807253]\n",
      " [0.83189722 0.16810278]\n",
      " [0.97707547 0.02292453]\n",
      " [0.90418224 0.09581776]\n",
      " [0.92691196 0.07308804]\n",
      " [0.84797361 0.15202639]\n",
      " [0.76712579 0.23287421]\n",
      " [0.94895152 0.05104848]\n",
      " [0.94782082 0.05217918]\n",
      " [0.75181521 0.24818479]\n",
      " [0.8788047  0.1211953 ]\n",
      " [0.80770783 0.19229217]\n",
      " [0.93864297 0.06135703]\n",
      " [0.86008494 0.13991506]\n",
      " [0.76056723 0.23943277]\n",
      " [0.90892468 0.09107532]\n",
      " [0.75402141 0.24597859]\n",
      " [0.94271838 0.05728162]\n",
      " [0.91827318 0.08172682]\n",
      " [0.90545127 0.09454873]\n",
      " [0.76879468 0.23120532]\n",
      " [0.92358132 0.07641868]\n",
      " [0.80705887 0.19294113]\n",
      " [0.90079525 0.09920475]\n",
      " [0.87933322 0.12066678]\n",
      " [0.80585706 0.19414294]\n",
      " [0.83150068 0.16849932]\n",
      " [0.53816801 0.46183199]\n",
      " [0.95031821 0.04968179]\n",
      " [0.73291921 0.26708079]\n",
      " [0.89182874 0.10817126]\n",
      " [0.80079859 0.19920141]\n",
      " [0.87739802 0.12260198]\n",
      " [0.96805228 0.03194772]\n",
      " [0.81741596 0.18258404]\n",
      " [0.86150085 0.13849915]\n",
      " [0.59407578 0.40592422]\n",
      " [0.82625729 0.17374271]\n",
      " [0.92534969 0.07465031]\n",
      " [0.81692206 0.18307794]\n",
      " [0.9258678  0.0741322 ]\n",
      " [0.8909459  0.1090541 ]\n",
      " [0.70071778 0.29928222]\n",
      " [0.82181894 0.17818106]\n",
      " [0.96589935 0.03410065]\n",
      " [0.8699699  0.1300301 ]\n",
      " [0.89918545 0.10081455]\n",
      " [0.88983808 0.11016192]\n",
      " [0.81432466 0.18567534]\n",
      " [0.85830032 0.14169968]\n",
      " [0.8387865  0.1612135 ]\n",
      " [0.84056579 0.15943421]\n",
      " [0.82661166 0.17338834]\n",
      " [0.94075161 0.05924839]\n",
      " [0.83183533 0.16816467]\n",
      " [0.7756136  0.2243864 ]\n",
      " [0.69399555 0.30600445]\n",
      " [0.8596213  0.1403787 ]\n",
      " [0.8251394  0.1748606 ]\n",
      " [0.84107717 0.15892283]\n",
      " [0.87191013 0.12808987]\n",
      " [0.8944765  0.1055235 ]\n",
      " [0.82945355 0.17054645]\n",
      " [0.72856817 0.27143183]\n",
      " [0.94692819 0.05307181]\n",
      " [0.96074297 0.03925703]\n",
      " [0.90500199 0.09499801]\n",
      " [0.88599986 0.11400014]\n",
      " [0.84865641 0.15134359]\n",
      " [0.79086983 0.20913017]\n",
      " [0.67302986 0.32697014]\n",
      " [0.93390204 0.06609796]\n",
      " [0.65644896 0.34355104]\n",
      " [0.74382857 0.25617143]\n",
      " [0.94248406 0.05751594]\n",
      " [0.78365668 0.21634332]\n",
      " [0.90655654 0.09344346]\n",
      " [0.81578726 0.18421274]\n",
      " [0.89149735 0.10850265]\n",
      " [0.85791873 0.14208127]\n",
      " [0.67453868 0.32546132]\n",
      " [0.93130389 0.06869611]\n",
      " [0.89999981 0.10000019]]\n"
     ]
    }
   ],
   "source": [
    "#predict_probs to return the class probilities of the dataset\n",
    "probs = model2.predict_proba(X_test)\n",
    "print (probs)"
   ]
  },
  {
   "cell_type": "code",
   "execution_count": 45,
   "id": "543129bc",
   "metadata": {
    "execution": {
     "iopub.execute_input": "2022-03-09T09:45:01.510043Z",
     "iopub.status.busy": "2022-03-09T09:45:01.509271Z",
     "iopub.status.idle": "2022-03-09T09:45:01.517075Z",
     "shell.execute_reply": "2022-03-09T09:45:01.517922Z",
     "shell.execute_reply.started": "2022-03-09T08:00:19.061714Z"
    },
    "papermill": {
     "duration": 0.100442,
     "end_time": "2022-03-09T09:45:01.518166",
     "exception": false,
     "start_time": "2022-03-09T09:45:01.417724",
     "status": "completed"
    },
    "tags": []
   },
   "outputs": [
    {
     "name": "stdout",
     "output_type": "stream",
     "text": [
      "0.8435374149659864\n",
      "0.6502502887947632\n"
     ]
    }
   ],
   "source": [
    "\n",
    "from sklearn import metrics\n",
    "\n",
    "print (metrics.accuracy_score(y_test, predicted))\n",
    "print (metrics.roc_auc_score(y_test, probs[:, 1]))"
   ]
  },
  {
   "cell_type": "code",
   "execution_count": 46,
   "id": "4288fcdf",
   "metadata": {
    "execution": {
     "iopub.execute_input": "2022-03-09T09:45:01.710161Z",
     "iopub.status.busy": "2022-03-09T09:45:01.709371Z",
     "iopub.status.idle": "2022-03-09T09:45:01.721757Z",
     "shell.execute_reply": "2022-03-09T09:45:01.722319Z",
     "shell.execute_reply.started": "2022-03-09T08:00:23.269726Z"
    },
    "papermill": {
     "duration": 0.110748,
     "end_time": "2022-03-09T09:45:01.722487",
     "exception": false,
     "start_time": "2022-03-09T09:45:01.611739",
     "status": "completed"
    },
    "tags": []
   },
   "outputs": [
    {
     "name": "stdout",
     "output_type": "stream",
     "text": [
      "[[371   0]\n",
      " [ 69   1]]\n",
      "              precision    recall  f1-score   support\n",
      "\n",
      "         0.0       0.84      1.00      0.91       371\n",
      "         1.0       1.00      0.01      0.03        70\n",
      "\n",
      "    accuracy                           0.84       441\n",
      "   macro avg       0.92      0.51      0.47       441\n",
      "weighted avg       0.87      0.84      0.77       441\n",
      "\n"
     ]
    }
   ],
   "source": [
    "print(metrics.confusion_matrix(y_test, predicted))\n",
    "print(metrics.classification_report(y_test, predicted))"
   ]
  },
  {
   "cell_type": "code",
   "execution_count": 47,
   "id": "24e898b7",
   "metadata": {
    "execution": {
     "iopub.execute_input": "2022-03-09T09:45:01.918108Z",
     "iopub.status.busy": "2022-03-09T09:45:01.917209Z",
     "iopub.status.idle": "2022-03-09T09:45:01.920893Z",
     "shell.execute_reply": "2022-03-09T09:45:01.921538Z",
     "shell.execute_reply.started": "2022-03-09T08:01:47.699861Z"
    },
    "papermill": {
     "duration": 0.107907,
     "end_time": "2022-03-09T09:45:01.921744",
     "exception": false,
     "start_time": "2022-03-09T09:45:01.813837",
     "status": "completed"
    },
    "tags": []
   },
   "outputs": [
    {
     "name": "stdout",
     "output_type": "stream",
     "text": [
      "      Intercept   Age  Department  DistanceFromHome  Education  \\\n",
      "338         1.0  30.0         2.0               5.0        3.0   \n",
      "363         1.0  33.0         2.0               5.0        3.0   \n",
      "759         1.0  45.0         3.0              24.0        4.0   \n",
      "793         1.0  28.0         1.0              15.0        2.0   \n",
      "581         1.0  30.0         1.0               1.0        3.0   \n",
      "...         ...   ...         ...               ...        ...   \n",
      "763         1.0  34.0         2.0              10.0        4.0   \n",
      "835         1.0  35.0         3.0               8.0        4.0   \n",
      "1216        1.0  43.0         2.0               2.0        3.0   \n",
      "559         1.0  38.0         1.0               2.0        5.0   \n",
      "684         1.0  40.0         2.0              10.0        4.0   \n",
      "\n",
      "      EducationField  YearsAtCompany  \n",
      "338              3.0            10.0  \n",
      "363              3.0             1.0  \n",
      "759              2.0             6.0  \n",
      "793              1.0             4.0  \n",
      "581              1.0             2.0  \n",
      "...              ...             ...  \n",
      "763              1.0             1.0  \n",
      "835              5.0             5.0  \n",
      "1216             2.0            10.0  \n",
      "559              2.0             1.0  \n",
      "684              3.0             1.0  \n",
      "\n",
      "[1029 rows x 7 columns]\n"
     ]
    }
   ],
   "source": [
    "print(X_train)"
   ]
  },
  {
   "cell_type": "code",
   "execution_count": 48,
   "id": "993df9b0",
   "metadata": {
    "execution": {
     "iopub.execute_input": "2022-03-09T09:45:02.110606Z",
     "iopub.status.busy": "2022-03-09T09:45:02.109992Z",
     "iopub.status.idle": "2022-03-09T09:45:02.119692Z",
     "shell.execute_reply": "2022-03-09T09:45:02.119163Z",
     "shell.execute_reply.started": "2022-03-09T08:00:55.251814Z"
    },
    "papermill": {
     "duration": 0.104442,
     "end_time": "2022-03-09T09:45:02.119858",
     "exception": false,
     "start_time": "2022-03-09T09:45:02.015416",
     "status": "completed"
    },
    "tags": []
   },
   "outputs": [
    {
     "name": "stdout",
     "output_type": "stream",
     "text": [
      "[[6.25571905e-07 9.99999374e-01]]\n"
     ]
    },
    {
     "name": "stderr",
     "output_type": "stream",
     "text": [
      "/opt/conda/lib/python3.7/site-packages/sklearn/base.py:446: UserWarning: X does not have valid feature names, but LogisticRegression was fitted with feature names\n",
      "  \"X does not have valid feature names, but\"\n"
     ]
    }
   ],
   "source": [
    "#add random values to KK according to the parameters mentioned above to check the proabily of attrition of the employee\n",
    "kk=[[1.0, 23.0, 1.0, 500.0, 3.0, 24.0, 1.0]]\n",
    "print(model.predict_proba(kk))"
   ]
  }
 ],
 "metadata": {
  "kernelspec": {
   "display_name": "Python 3",
   "language": "python",
   "name": "python3"
  },
  "language_info": {
   "codemirror_mode": {
    "name": "ipython",
    "version": 3
   },
   "file_extension": ".py",
   "mimetype": "text/x-python",
   "name": "python",
   "nbconvert_exporter": "python",
   "pygments_lexer": "ipython3",
   "version": "3.7.12"
  },
  "papermill": {
   "default_parameters": {},
   "duration": 19.734344,
   "end_time": "2022-03-09T09:45:03.195334",
   "environment_variables": {},
   "exception": null,
   "input_path": "__notebook__.ipynb",
   "output_path": "__notebook__.ipynb",
   "parameters": {},
   "start_time": "2022-03-09T09:44:43.460990",
   "version": "2.3.3"
  }
 },
 "nbformat": 4,
 "nbformat_minor": 5
}
